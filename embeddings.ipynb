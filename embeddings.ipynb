{
 "cells": [
  {
   "cell_type": "code",
   "execution_count": 212,
   "id": "6824590d",
   "metadata": {},
   "outputs": [],
   "source": [
    "import torch\n",
    "import os.path as osp\n",
    "import GCL.losses as L\n",
    "import GCL.augmentors as A\n",
    "import torch.nn.functional as F\n",
    "import torch_geometric.transforms as T\n",
    "\n",
    "import time\n",
    "from tqdm import tqdm\n",
    "from torch.optim import Adam, AdamW\n",
    "from GCL.eval import get_split, LREvaluator\n",
    "# from GCL.models import DualBranchContrast\n",
    "from torch_geometric.nn import GCNConv\n",
    "from torch_geometric.datasets import Planetoid, Coauthor, WikiCS, SNAPDataset, TUDataset\n",
    "import numpy as np\n",
    "from rlap import ApproximateCholesky\n",
    "\n",
    "from GCL.losses import Loss\n",
    "from GCL.models import get_sampler\n"
   ]
  },
  {
   "cell_type": "code",
   "execution_count": 213,
   "id": "2de2d163",
   "metadata": {},
   "outputs": [],
   "source": [
    "class InfoNCE(Loss):\n",
    "    def __init__(self, tau):\n",
    "        super(InfoNCE, self).__init__()\n",
    "        self.tau = tau\n",
    "\n",
    "    def compute(self, anchor, sample, pos_mask, neg_mask, rw, *args, **kwargs):\n",
    "        sim = _similarity(anchor, sample) / self.tau\n",
    "        rw += torch.eye(anchor.shape[0])\n",
    "        sim = sim*rw\n",
    "        exp_sim = torch.exp(sim) * (pos_mask + neg_mask)\n",
    "        log_prob = sim - torch.log(exp_sim.sum(dim=1, keepdim=True))\n",
    "        loss = log_prob * pos_mask\n",
    "        loss = loss.sum(dim=1) / pos_mask.sum(dim=1)\n",
    "        return -loss.mean()"
   ]
  },
  {
   "cell_type": "code",
   "execution_count": 281,
   "id": "3292f5d3",
   "metadata": {},
   "outputs": [],
   "source": [
    "class HardnessInfoNCE(Loss):\n",
    "    def __init__(self, tau, tau_plus=0.1, beta=0.5):\n",
    "        super(HardnessInfoNCE, self).__init__()\n",
    "        self.tau = tau\n",
    "        self.tau_plus = tau_plus\n",
    "        self.beta = beta\n",
    "\n",
    "    def compute(self, anchor, sample, pos_mask, neg_mask, rw, *args, **kwargs):\n",
    "        rw += torch.eye(anchor.shape[0])\n",
    "        num_neg = neg_mask.int().sum()\n",
    "        sim = _similarity(anchor, sample) / self.tau\n",
    "        exp_sim = torch.exp(sim)\n",
    "\n",
    "        pos = (exp_sim * pos_mask).sum(dim=1) / pos_mask.int().sum(dim=1)\n",
    "#         imp = torch.exp(self.beta * (sim * neg_mask))\n",
    "#         print(torch.nonzero(torch.isnan(rw)))\n",
    "#         print(rw.max(), rw.min())\n",
    "        imp = torch.exp( rw * (sim * neg_mask))\n",
    "        reweight_neg = (imp * (exp_sim * neg_mask)).sum(dim=1) / imp.mean(dim=1)\n",
    "        ng = (-num_neg * self.tau_plus * pos + reweight_neg) / (1 - self.tau_plus)\n",
    "        ng = torch.clamp(ng, min=num_neg * np.e ** (-1. / self.tau))\n",
    "        # print(sim.shape, pos.shape, ng.shape)\n",
    "        log_prob = sim - torch.log(pos + ng)\n",
    "        loss = log_prob * pos_mask\n",
    "        loss = loss.sum(dim=1) / pos_mask.sum(dim=1)\n",
    "        return loss.mean()"
   ]
  },
  {
   "cell_type": "code",
   "execution_count": 282,
   "id": "2c5c7921",
   "metadata": {},
   "outputs": [],
   "source": [
    "def add_extra_mask(pos_mask, neg_mask=None, extra_pos_mask=None, extra_neg_mask=None):\n",
    "    if extra_pos_mask is not None:\n",
    "        pos_mask = torch.bitwise_or(pos_mask.bool(), extra_pos_mask.bool()).float()\n",
    "    if extra_neg_mask is not None:\n",
    "        neg_mask = torch.bitwise_and(neg_mask.bool(), extra_neg_mask.bool()).float()\n",
    "    else:\n",
    "        neg_mask = 1. - pos_mask\n",
    "    return pos_mask, neg_mask\n",
    "\n",
    "class DualBranchContrast(torch.nn.Module):\n",
    "    def __init__(self, loss: Loss, mode: str, intraview_negs: bool = False, **kwargs):\n",
    "        super(DualBranchContrast, self).__init__()\n",
    "        self.loss = loss\n",
    "        self.mode = mode\n",
    "        self.sampler = get_sampler(mode, intraview_negs=intraview_negs)\n",
    "        self.kwargs = kwargs\n",
    "\n",
    "    def forward(self, h1=None, h2=None, g1=None, g2=None, batch=None, h3=None, h4=None,\n",
    "                extra_pos_mask=None, extra_neg_mask=None, rw1=None, rw2=None):\n",
    "        if self.mode == 'L2L':\n",
    "            assert h1 is not None and h2 is not None\n",
    "            anchor1, sample1, pos_mask1, neg_mask1 = self.sampler(anchor=h1, sample=h2)\n",
    "            anchor2, sample2, pos_mask2, neg_mask2 = self.sampler(anchor=h2, sample=h1)\n",
    "        elif self.mode == 'G2G':\n",
    "            assert g1 is not None and g2 is not None\n",
    "            anchor1, sample1, pos_mask1, neg_mask1 = self.sampler(anchor=g1, sample=g2)\n",
    "            anchor2, sample2, pos_mask2, neg_mask2 = self.sampler(anchor=g2, sample=g1)\n",
    "        else:  # global-to-local\n",
    "            if batch is None or batch.max().item() + 1 <= 1:  # single graph\n",
    "                assert all(v is not None for v in [h1, h2, g1, g2, h3, h4])\n",
    "                anchor1, sample1, pos_mask1, neg_mask1 = self.sampler(anchor=g1, sample=h2, neg_sample=h4)\n",
    "                anchor2, sample2, pos_mask2, neg_mask2 = self.sampler(anchor=g2, sample=h1, neg_sample=h3)\n",
    "            else:  # multiple graphs\n",
    "                assert all(v is not None for v in [h1, h2, g1, g2, batch])\n",
    "                anchor1, sample1, pos_mask1, neg_mask1 = self.sampler(anchor=g1, sample=h2, batch=batch)\n",
    "                anchor2, sample2, pos_mask2, neg_mask2 = self.sampler(anchor=g2, sample=h1, batch=batch)\n",
    "\n",
    "        pos_mask1, neg_mask1 = add_extra_mask(pos_mask1, neg_mask1, extra_pos_mask, extra_neg_mask)\n",
    "        pos_mask2, neg_mask2 = add_extra_mask(pos_mask2, neg_mask2, extra_pos_mask, extra_neg_mask)\n",
    "        l1 = self.loss(anchor=anchor1, sample=sample1, pos_mask=pos_mask1, neg_mask=neg_mask1, rw=rw1, **self.kwargs)\n",
    "        l2 = self.loss(anchor=anchor2, sample=sample2, pos_mask=pos_mask2, neg_mask=neg_mask2, rw=rw2, **self.kwargs)\n",
    "\n",
    "        return (l1 + l2) * 0.5"
   ]
  },
  {
   "cell_type": "code",
   "execution_count": 283,
   "id": "5603ba4c",
   "metadata": {},
   "outputs": [],
   "source": [
    "class rLAP(A.Augmentor):\n",
    "    def __init__(self, t):\n",
    "        super(rLAP, self).__init__()\n",
    "        self.t = t\n",
    "        self.ac = ApproximateCholesky()\n",
    "\n",
    "    def augment(self, g):\n",
    "        x, edge_index, edge_weights = g.unfold()\n",
    "        # edge_index, edge_weights = dropout_adj(edge_index, edge_attr=edge_weights, p=self.pe)\n",
    "        num_nodes = edge_index.max().item() + 1\n",
    "        # print(\"EDGE INDEX SHAPE: \", edge_index.shape)\n",
    "        _edge_weights = edge_weights\n",
    "        if _edge_weights is None:\n",
    "            edge_weights = torch.ones((1, edge_index.shape[1])).to(edge_index.device)\n",
    "        # print(\"EDGE WT SHAPE: \", edge_weights.shape)\n",
    "        edge_info = torch.concat((edge_index, edge_weights), dim=0).t()\n",
    "        # print(\"EDGE INFO SHAPE: \", edge_info.shape)\n",
    "        self.ac.setup(edge_info.to(\"cpu\"), num_nodes, num_nodes, \"random\")\n",
    "        sparse_edge_info = self.ac.get_schur_complement(self.t)\n",
    "        # print(\"sparse_edge_info shape\", sparse_edge_info.shape)\n",
    "        sampled_edge_index = torch.Tensor(sparse_edge_info[:,:2]).long().t().to(edge_index.device)\n",
    "        # print(\"Number of edges after aug: \", sampled_edge_index.shape)\n",
    "        unique_nodes = torch.unique(sampled_edge_index, sorted=False)\n",
    "        # print(\"Edges in SC: \", sampled_edge_index)\n",
    "        # print(\"Number of unique nodes: \", unique_nodes.shape)\n",
    "        sampled_edge_weights = torch.Tensor(sparse_edge_info[:,-1]).t().to(edge_index.device)\n",
    "        return A.Graph(x=x, edge_index=sampled_edge_index, edge_weights=sampled_edge_weights)\n"
   ]
  },
  {
   "cell_type": "code",
   "execution_count": 284,
   "id": "9b7c3ca8",
   "metadata": {},
   "outputs": [],
   "source": [
    "class GConv(torch.nn.Module):\n",
    "    def __init__(self, input_dim, hidden_dim, activation, num_layers):\n",
    "        super(GConv, self).__init__()\n",
    "        self.activation = activation()\n",
    "        self.layers = torch.nn.ModuleList()\n",
    "        self.layers.append(GCNConv(input_dim, hidden_dim, cached=False))\n",
    "        for _ in range(num_layers - 1):\n",
    "            self.layers.append(GCNConv(hidden_dim, hidden_dim, cached=False))\n",
    "\n",
    "    def forward(self, x, edge_index, edge_weight=None):\n",
    "        z = x\n",
    "        for i, conv in enumerate(self.layers):\n",
    "            z = conv(z, edge_index, edge_weight)\n",
    "            z = self.activation(z)\n",
    "        return z"
   ]
  },
  {
   "cell_type": "code",
   "execution_count": 297,
   "id": "6d022fe6",
   "metadata": {},
   "outputs": [],
   "source": [
    "class Encoder(torch.nn.Module):\n",
    "    def __init__(self, encoder, augmentor, hidden_dim, proj_dim):\n",
    "        super(Encoder, self).__init__()\n",
    "        self.encoder = encoder\n",
    "        self.augmentor = augmentor\n",
    "\n",
    "        self.fc1 = torch.nn.Linear(hidden_dim, proj_dim)\n",
    "        self.fc2 = torch.nn.Linear(proj_dim, hidden_dim)\n",
    "\n",
    "    def forward(self, x, edge_index, edge_weight=None):\n",
    "        num_nodes = x.shape[0]\n",
    "        aug1, aug2 = self.augmentor\n",
    "        x1, edge_index1, edge_weight1 = aug1(x, edge_index, edge_weight)\n",
    "        sc_adj_sparse = torch.sparse_coo_tensor(\n",
    "            edge_index1,\n",
    "            edge_weight1,\n",
    "            (num_nodes, num_nodes)\n",
    "        ).to(edge_index.device)\n",
    "        sc_adj = sc_adj_sparse.to_dense()\n",
    "        rw1 = sc_adj/ (sc_adj.sum(dim=1) + 1e-20)\n",
    "        \n",
    "        x2, edge_index2, edge_weight2 = aug2(x, edge_index, edge_weight)\n",
    "        sc_adj_sparse = torch.sparse_coo_tensor(\n",
    "            edge_index2,\n",
    "            edge_weight2,\n",
    "            (num_nodes, num_nodes)\n",
    "        ).to(edge_index.device)\n",
    "        sc_adj = sc_adj_sparse.to_dense()\n",
    "        rw2 = sc_adj/ (sc_adj.sum(dim=1) + 1e-20)\n",
    "\n",
    "        z = self.encoder(x, edge_index, edge_weight)\n",
    "        z1 = self.encoder(x1, edge_index1, edge_weight1)\n",
    "        z2 = self.encoder(x2, edge_index2, edge_weight2)\n",
    "        return z, z1, z2, rw1, rw2\n",
    "\n",
    "    def project(self, z: torch.Tensor) -> torch.Tensor:\n",
    "        z = F.elu(self.fc1(z))\n",
    "        return self.fc2(z)"
   ]
  },
  {
   "cell_type": "code",
   "execution_count": 298,
   "id": "9ff0a238",
   "metadata": {},
   "outputs": [],
   "source": [
    "\n",
    "def train(encoder_model, contrast_model, data, optimizer):\n",
    "    encoder_model.train()\n",
    "    optimizer.zero_grad()\n",
    "    z, z1, z2, rw1, rw2 = encoder_model(data.x, data.edge_index, data.edge_attr)\n",
    "    h1, h2 = [encoder_model.project(x) for x in [z1, z2]]\n",
    "    loss = contrast_model(h1=h1, h2=h2, rw1=rw1, rw2=rw2)\n",
    "    loss.backward()\n",
    "    optimizer.step()\n",
    "    return loss.item()"
   ]
  },
  {
   "cell_type": "code",
   "execution_count": 299,
   "id": "d36a4668",
   "metadata": {},
   "outputs": [],
   "source": [
    "\n",
    "def test(encoder_model, data):\n",
    "    encoder_model.eval()\n",
    "    z, _, _, _, _ = encoder_model(data.x, data.edge_index, data.edge_attr)\n",
    "    split = get_split(num_samples=z.size()[0], train_ratio=0.1, test_ratio=0.8)\n",
    "    result = LREvaluator()(z, data.y, split)\n",
    "    return result"
   ]
  },
  {
   "cell_type": "code",
   "execution_count": 300,
   "id": "2317e8d8",
   "metadata": {},
   "outputs": [
    {
     "name": "stdout",
     "output_type": "stream",
     "text": [
      " IS DATA UNDIRECTED:  True\n"
     ]
    },
    {
     "name": "stderr",
     "output_type": "stream",
     "text": [
      "(T):   5%|███████▍                                                                                                                                            | 50/1000 [00:55<17:31,  1.11s/it, loss=-8.25]\n",
      "(LR):   0%|                                                                                                                                                                               | 0/5000 [00:00<?]\u001b[A\n",
      "(LR):   0%|                                                                                                                                 | 0/5000 [00:00<?, acc=0.276, best test F1Mi=0.276, F1Ma=0.0618]\u001b[A\n",
      "(LR):   0%|▍                                                                                                                           | 20/5000 [00:00<00:10, acc=0.276, best test F1Mi=0.276, F1Ma=0.0618]\u001b[A\n",
      "(LR):   1%|▉                                                                                                                           | 40/5000 [00:00<00:08, acc=0.276, best test F1Mi=0.276, F1Ma=0.0618]\u001b[A\n",
      "(LR):   1%|█▍                                                                                                                          | 60/5000 [00:00<00:07, acc=0.276, best test F1Mi=0.276, F1Ma=0.0618]\u001b[A\n",
      "(LR):   2%|█▉                                                                                                                          | 80/5000 [00:00<00:06, acc=0.276, best test F1Mi=0.276, F1Ma=0.0618]\u001b[A\n",
      "(LR):   2%|██▍                                                                                                                        | 100/5000 [00:00<00:05, acc=0.276, best test F1Mi=0.276, F1Ma=0.0618]\u001b[A\n",
      "(LR):   2%|██▍                                                                                                                        | 100/5000 [00:00<00:05, acc=0.279, best test F1Mi=0.276, F1Ma=0.0618]\u001b[A\n",
      "(LR):   2%|██▉                                                                                                                        | 120/5000 [00:00<00:05, acc=0.279, best test F1Mi=0.276, F1Ma=0.0618]\u001b[A\n",
      "(LR):   3%|███▍                                                                                                                       | 140/5000 [00:00<00:05, acc=0.279, best test F1Mi=0.276, F1Ma=0.0618]\u001b[A\n",
      "(LR):   3%|███▉                                                                                                                       | 160/5000 [00:00<00:05, acc=0.279, best test F1Mi=0.276, F1Ma=0.0618]\u001b[A\n",
      "(LR):   4%|████▍                                                                                                                      | 180/5000 [00:00<00:05, acc=0.279, best test F1Mi=0.276, F1Ma=0.0618]\u001b[A\n",
      "(LR):   4%|████▉                                                                                                                      | 200/5000 [00:00<00:05, acc=0.279, best test F1Mi=0.279, F1Ma=0.0773]\u001b[A\n",
      "(LR):   4%|█████▍                                                                                                                     | 220/5000 [00:00<00:04, acc=0.279, best test F1Mi=0.279, F1Ma=0.0773]\u001b[A\n",
      "(LR):   4%|█████▍                                                                                                                     | 220/5000 [00:00<00:04, acc=0.279, best test F1Mi=0.279, F1Ma=0.0773]\u001b[A\n",
      "(LR):   5%|█████▉                                                                                                                      | 240/5000 [00:00<00:04, acc=0.279, best test F1Mi=0.279, F1Ma=0.077]\u001b[A\n",
      "(LR):   5%|██████▍                                                                                                                     | 260/5000 [00:00<00:04, acc=0.279, best test F1Mi=0.279, F1Ma=0.077]\u001b[A\n",
      "(LR):   6%|██████▉                                                                                                                     | 280/5000 [00:00<00:04, acc=0.279, best test F1Mi=0.279, F1Ma=0.077]\u001b[A\n",
      "(LR):   6%|███████▍                                                                                                                   | 300/5000 [00:00<00:04, acc=0.287, best test F1Mi=0.287, F1Ma=0.0884]\u001b[A\n",
      "(LR):   6%|███████▊                                                                                                                   | 320/5000 [00:00<00:04, acc=0.287, best test F1Mi=0.287, F1Ma=0.0884]\u001b[A\n",
      "(LR):   6%|████████                                                                                                                     | 320/5000 [00:00<00:04, acc=0.29, best test F1Mi=0.29, F1Ma=0.0938]\u001b[A\n",
      "(LR):   7%|████████▍                                                                                                                   | 340/5000 [00:00<00:04, acc=0.298, best test F1Mi=0.298, F1Ma=0.108]\u001b[A\n",
      "(LR):   7%|████████▉                                                                                                                   | 360/5000 [00:00<00:04, acc=0.301, best test F1Mi=0.301, F1Ma=0.113]\u001b[A\n",
      "(LR):   8%|█████████▍                                                                                                                  | 380/5000 [00:00<00:04, acc=0.301, best test F1Mi=0.301, F1Ma=0.113]\u001b[A\n",
      "(LR):   8%|█████████▉                                                                                                                  | 400/5000 [00:00<00:04, acc=0.309, best test F1Mi=0.309, F1Ma=0.123]\u001b[A\n",
      "(LR):   8%|██████████▌                                                                                                                   | 420/5000 [00:00<00:04, acc=0.32, best test F1Mi=0.32, F1Ma=0.136]\u001b[A\n",
      "(LR):   9%|███████████                                                                                                                   | 440/5000 [00:00<00:04, acc=0.32, best test F1Mi=0.32, F1Ma=0.136]\u001b[A\n",
      "(LR):   9%|██████████▉                                                                                                                 | 440/5000 [00:00<00:04, acc=0.335, best test F1Mi=0.335, F1Ma=0.159]\u001b[A\n",
      "(LR):   9%|███████████▌                                                                                                                 | 460/5000 [00:00<00:04, acc=0.342, best test F1Mi=0.342, F1Ma=0.17]\u001b[A\n",
      "(LR):  10%|███████████▉                                                                                                                | 480/5000 [00:00<00:04, acc=0.353, best test F1Mi=0.353, F1Ma=0.183]\u001b[A\n",
      "(LR):  10%|████████████▍                                                                                                               | 500/5000 [00:00<00:04, acc=0.357, best test F1Mi=0.357, F1Ma=0.189]\u001b[A\n",
      "(LR):  10%|█████████████                                                                                                                 | 520/5000 [00:00<00:04, acc=0.36, best test F1Mi=0.36, F1Ma=0.201]\u001b[A\n",
      "(LR):  11%|█████████████▍                                                                                                              | 540/5000 [00:00<00:04, acc=0.371, best test F1Mi=0.371, F1Ma=0.218]\u001b[A\n",
      "(LR):  11%|█████████████▉                                                                                                              | 560/5000 [00:00<00:04, acc=0.371, best test F1Mi=0.371, F1Ma=0.218]\u001b[A\n",
      "(LR):  11%|█████████████▉                                                                                                              | 560/5000 [00:00<00:04, acc=0.379, best test F1Mi=0.379, F1Ma=0.224]\u001b[A\n",
      "(LR):  12%|██████████████▌                                                                                                              | 580/5000 [00:00<00:04, acc=0.382, best test F1Mi=0.382, F1Ma=0.23]\u001b[A\n",
      "(LR):  12%|███████████████                                                                                                              | 600/5000 [00:00<00:04, acc=0.382, best test F1Mi=0.382, F1Ma=0.23]\u001b[A\n",
      "(LR):  12%|███████████████▍                                                                                                            | 620/5000 [00:00<00:04, acc=0.386, best test F1Mi=0.386, F1Ma=0.235]\u001b[A\n"
     ]
    },
    {
     "name": "stderr",
     "output_type": "stream",
     "text": [
      "(LR):  13%|████████████████▏                                                                                                             | 640/5000 [00:00<00:04, acc=0.39, best test F1Mi=0.39, F1Ma=0.243]\u001b[A\n",
      "(LR):  13%|████████████████▎                                                                                                           | 660/5000 [00:00<00:04, acc=0.401, best test F1Mi=0.401, F1Ma=0.261]\u001b[A\n",
      "(LR):  14%|████████████████▊                                                                                                           | 680/5000 [00:00<00:04, acc=0.401, best test F1Mi=0.401, F1Ma=0.261]\u001b[A\n",
      "(LR):  14%|████████████████▊                                                                                                           | 680/5000 [00:00<00:04, acc=0.408, best test F1Mi=0.408, F1Ma=0.273]\u001b[A\n",
      "(LR):  14%|█████████████████▎                                                                                                          | 700/5000 [00:00<00:04, acc=0.408, best test F1Mi=0.408, F1Ma=0.273]\u001b[A\n",
      "(LR):  14%|█████████████████▊                                                                                                          | 720/5000 [00:00<00:04, acc=0.408, best test F1Mi=0.408, F1Ma=0.272]\u001b[A\n",
      "(LR):  15%|██████████████████▎                                                                                                         | 740/5000 [00:00<00:04, acc=0.412, best test F1Mi=0.412, F1Ma=0.279]\u001b[A\n",
      "(LR):  15%|██████████████████▊                                                                                                         | 760/5000 [00:00<00:04, acc=0.415, best test F1Mi=0.415, F1Ma=0.284]\u001b[A\n",
      "(LR):  16%|███████████████████▎                                                                                                        | 780/5000 [00:00<00:04, acc=0.423, best test F1Mi=0.423, F1Ma=0.291]\u001b[A\n",
      "(LR):  16%|███████████████████▊                                                                                                        | 800/5000 [00:00<00:04, acc=0.423, best test F1Mi=0.423, F1Ma=0.291]\u001b[A\n",
      "(LR):  16%|███████████████████▊                                                                                                        | 800/5000 [00:00<00:04, acc=0.423, best test F1Mi=0.423, F1Ma=0.289]\u001b[A\n",
      "(LR):  16%|████████████████████▋                                                                                                         | 820/5000 [00:00<00:04, acc=0.43, best test F1Mi=0.43, F1Ma=0.311]\u001b[A\n",
      "(LR):  17%|█████████████████████▎                                                                                                         | 840/5000 [00:00<00:04, acc=0.43, best test F1Mi=0.43, F1Ma=0.31]\u001b[A\n",
      "(LR):  17%|█████████████████████▌                                                                                                       | 860/5000 [00:00<00:04, acc=0.438, best test F1Mi=0.438, F1Ma=0.32]\u001b[A\n",
      "(LR):  18%|█████████████████████▊                                                                                                      | 880/5000 [00:00<00:03, acc=0.449, best test F1Mi=0.449, F1Ma=0.335]\u001b[A\n",
      "(LR):  18%|██████████████████████▎                                                                                                     | 900/5000 [00:00<00:03, acc=0.456, best test F1Mi=0.456, F1Ma=0.344]\u001b[A\n",
      "(LR):  18%|██████████████████████▊                                                                                                     | 920/5000 [00:00<00:03, acc=0.456, best test F1Mi=0.456, F1Ma=0.344]\u001b[A\n",
      "(LR):  18%|███████████████████████▏                                                                                                      | 920/5000 [00:00<00:03, acc=0.46, best test F1Mi=0.46, F1Ma=0.347]\u001b[A\n",
      "(LR):  19%|███████████████████████▎                                                                                                    | 940/5000 [00:00<00:03, acc=0.467, best test F1Mi=0.467, F1Ma=0.356]\u001b[A\n",
      "(LR):  19%|███████████████████████▊                                                                                                    | 960/5000 [00:00<00:03, acc=0.467, best test F1Mi=0.467, F1Ma=0.359]\u001b[A\n",
      "(LR):  20%|████████████████████████▎                                                                                                   | 980/5000 [00:00<00:03, acc=0.467, best test F1Mi=0.467, F1Ma=0.359]\u001b[A\n",
      "(LR):  20%|████████████████████████▌                                                                                                  | 1000/5000 [00:00<00:03, acc=0.471, best test F1Mi=0.471, F1Ma=0.362]\u001b[A\n",
      "(LR):  20%|█████████████████████████                                                                                                  | 1020/5000 [00:01<00:03, acc=0.474, best test F1Mi=0.474, F1Ma=0.377]\u001b[A\n",
      "(LR):  21%|█████████████████████████▌                                                                                                 | 1040/5000 [00:01<00:03, acc=0.474, best test F1Mi=0.474, F1Ma=0.377]\u001b[A\n",
      "(LR):  21%|█████████████████████████▌                                                                                                 | 1040/5000 [00:01<00:03, acc=0.474, best test F1Mi=0.474, F1Ma=0.377]\u001b[A\n",
      "(LR):  21%|██████████████████████████                                                                                                 | 1060/5000 [00:01<00:03, acc=0.474, best test F1Mi=0.474, F1Ma=0.375]\u001b[A\n",
      "(LR):  22%|██████████████████████████▌                                                                                                | 1080/5000 [00:01<00:03, acc=0.489, best test F1Mi=0.489, F1Ma=0.392]\u001b[A\n",
      "(LR):  22%|███████████████████████████▉                                                                                                   | 1100/5000 [00:01<00:03, acc=0.5, best test F1Mi=0.5, F1Ma=0.401]\u001b[A\n",
      "(LR):  22%|███████████████████████████▌                                                                                               | 1120/5000 [00:01<00:03, acc=0.493, best test F1Mi=0.493, F1Ma=0.393]\u001b[A\n",
      "(LR):  23%|████████████████████████████                                                                                               | 1140/5000 [00:01<00:03, acc=0.504, best test F1Mi=0.504, F1Ma=0.411]\u001b[A\n",
      "(LR):  23%|████████████████████████████▌                                                                                              | 1160/5000 [00:01<00:03, acc=0.504, best test F1Mi=0.504, F1Ma=0.411]\u001b[A\n",
      "(LR):  23%|████████████████████████████▌                                                                                              | 1160/5000 [00:01<00:03, acc=0.511, best test F1Mi=0.511, F1Ma=0.419]\u001b[A\n",
      "(LR):  24%|█████████████████████████████▎                                                                                              | 1180/5000 [00:01<00:03, acc=0.515, best test F1Mi=0.515, F1Ma=0.42]\u001b[A\n",
      "(LR):  24%|█████████████████████████████▌                                                                                             | 1200/5000 [00:01<00:03, acc=0.522, best test F1Mi=0.522, F1Ma=0.427]\u001b[A\n",
      "(LR):  24%|██████████████████████████████                                                                                             | 1220/5000 [00:01<00:03, acc=0.522, best test F1Mi=0.522, F1Ma=0.427]\u001b[A\n",
      "(LR):  25%|██████████████████████████████▌                                                                                            | 1240/5000 [00:01<00:03, acc=0.522, best test F1Mi=0.522, F1Ma=0.427]\u001b[A\n",
      "(LR):  25%|██████████████████████████████▉                                                                                            | 1260/5000 [00:01<00:03, acc=0.526, best test F1Mi=0.526, F1Ma=0.429]\u001b[A\n",
      "(LR):  26%|███████████████████████████████▍                                                                                           | 1280/5000 [00:01<00:03, acc=0.526, best test F1Mi=0.526, F1Ma=0.429]\u001b[A\n",
      "(LR):  26%|███████████████████████████████▍                                                                                           | 1280/5000 [00:01<00:03, acc=0.529, best test F1Mi=0.529, F1Ma=0.434]\u001b[A\n"
     ]
    },
    {
     "name": "stderr",
     "output_type": "stream",
     "text": [
      "(LR):  26%|███████████████████████████████▉                                                                                           | 1300/5000 [00:01<00:03, acc=0.529, best test F1Mi=0.529, F1Ma=0.434]\u001b[A\n",
      "(LR):  26%|████████████████████████████████▍                                                                                          | 1320/5000 [00:01<00:03, acc=0.537, best test F1Mi=0.537, F1Ma=0.446]\u001b[A\n",
      "(LR):  27%|████████████████████████████████▉                                                                                          | 1340/5000 [00:01<00:03, acc=0.537, best test F1Mi=0.537, F1Ma=0.446]\u001b[A\n",
      "(LR):  27%|█████████████████████████████████▍                                                                                         | 1360/5000 [00:01<00:03, acc=0.544, best test F1Mi=0.544, F1Ma=0.453]\u001b[A\n",
      "(LR):  28%|█████████████████████████████████▉                                                                                         | 1380/5000 [00:01<00:03, acc=0.544, best test F1Mi=0.544, F1Ma=0.451]\u001b[A\n",
      "(LR):  28%|██████████████████████████████████▍                                                                                        | 1400/5000 [00:01<00:03, acc=0.548, best test F1Mi=0.548, F1Ma=0.461]\u001b[A\n",
      "(LR):  28%|██████████████████████████████████▉                                                                                        | 1420/5000 [00:01<00:03, acc=0.548, best test F1Mi=0.548, F1Ma=0.461]\u001b[A\n",
      "(LR):  28%|██████████████████████████████████▉                                                                                        | 1420/5000 [00:01<00:03, acc=0.555, best test F1Mi=0.555, F1Ma=0.469]\u001b[A\n",
      "(LR):  29%|███████████████████████████████████▍                                                                                       | 1440/5000 [00:01<00:03, acc=0.555, best test F1Mi=0.555, F1Ma=0.469]\u001b[A\n",
      "(LR):  29%|███████████████████████████████████▉                                                                                       | 1460/5000 [00:01<00:03, acc=0.551, best test F1Mi=0.551, F1Ma=0.465]\u001b[A\n",
      "(LR):  30%|████████████████████████████████████▍                                                                                      | 1480/5000 [00:01<00:03, acc=0.562, best test F1Mi=0.551, F1Ma=0.465]\u001b[A\n",
      "(LR):  30%|████████████████████████████████████▉                                                                                      | 1500/5000 [00:01<00:03, acc=0.566, best test F1Mi=0.566, F1Ma=0.495]\u001b[A\n",
      "(LR):  30%|█████████████████████████████████████▍                                                                                     | 1520/5000 [00:01<00:03, acc=0.566, best test F1Mi=0.566, F1Ma=0.495]\u001b[A\n",
      "(LR):  31%|██████████████████████████████████████▌                                                                                      | 1540/5000 [00:01<00:03, acc=0.57, best test F1Mi=0.57, F1Ma=0.502]\u001b[A\n",
      "(LR):  31%|███████████████████████████████████████                                                                                      | 1560/5000 [00:01<00:02, acc=0.57, best test F1Mi=0.57, F1Ma=0.502]\u001b[A\n",
      "(LR):  31%|███████████████████████████████████████                                                                                      | 1560/5000 [00:01<00:02, acc=0.57, best test F1Mi=0.57, F1Ma=0.502]\u001b[A\n",
      "(LR):  32%|███████████████████████████████████████▌                                                                                     | 1580/5000 [00:01<00:02, acc=0.57, best test F1Mi=0.57, F1Ma=0.502]\u001b[A\n",
      "(LR):  32%|███████████████████████████████████████▎                                                                                   | 1600/5000 [00:01<00:02, acc=0.577, best test F1Mi=0.577, F1Ma=0.508]\u001b[A\n",
      "(LR):  32%|███████████████████████████████████████▊                                                                                   | 1620/5000 [00:01<00:02, acc=0.577, best test F1Mi=0.577, F1Ma=0.508]\u001b[A\n",
      "(LR):  33%|████████████████████████████████████████▎                                                                                  | 1640/5000 [00:01<00:02, acc=0.577, best test F1Mi=0.577, F1Ma=0.507]\u001b[A\n",
      "(LR):  33%|████████████████████████████████████████▊                                                                                  | 1660/5000 [00:01<00:02, acc=0.577, best test F1Mi=0.577, F1Ma=0.507]\u001b[A\n",
      "(LR):  34%|█████████████████████████████████████████▎                                                                                 | 1680/5000 [00:01<00:02, acc=0.577, best test F1Mi=0.577, F1Ma=0.507]\u001b[A\n",
      "(LR):  34%|█████████████████████████████████████████▊                                                                                 | 1700/5000 [00:01<00:02, acc=0.577, best test F1Mi=0.577, F1Ma=0.507]\u001b[A\n",
      "(LR):  34%|█████████████████████████████████████████▊                                                                                 | 1700/5000 [00:01<00:02, acc=0.577, best test F1Mi=0.577, F1Ma=0.506]\u001b[A\n",
      "(LR):  34%|██████████████████████████████████████████▎                                                                                | 1720/5000 [00:01<00:02, acc=0.577, best test F1Mi=0.577, F1Ma=0.506]\u001b[A\n",
      "(LR):  35%|██████████████████████████████████████████▊                                                                                | 1740/5000 [00:01<00:02, acc=0.581, best test F1Mi=0.581, F1Ma=0.509]\u001b[A\n",
      "(LR):  35%|███████████████████████████████████████████▎                                                                               | 1760/5000 [00:01<00:02, acc=0.585, best test F1Mi=0.581, F1Ma=0.509]\u001b[A\n",
      "(LR):  36%|███████████████████████████████████████████▊                                                                               | 1780/5000 [00:01<00:02, acc=0.585, best test F1Mi=0.585, F1Ma=0.516]\u001b[A\n",
      "(LR):  36%|████████████████████████████████████████████▎                                                                              | 1800/5000 [00:01<00:02, acc=0.588, best test F1Mi=0.585, F1Ma=0.516]\u001b[A\n",
      "(LR):  36%|████████████████████████████████████████████▊                                                                              | 1820/5000 [00:01<00:02, acc=0.588, best test F1Mi=0.585, F1Ma=0.516]\u001b[A\n",
      "(LR):  36%|████████████████████████████████████████████▊                                                                              | 1820/5000 [00:01<00:02, acc=0.588, best test F1Mi=0.588, F1Ma=0.519]\u001b[A\n",
      "(LR):  37%|█████████████████████████████████████████████▎                                                                             | 1840/5000 [00:01<00:02, acc=0.588, best test F1Mi=0.588, F1Ma=0.519]\u001b[A\n",
      "(LR):  37%|█████████████████████████████████████████████▊                                                                             | 1860/5000 [00:01<00:02, acc=0.588, best test F1Mi=0.588, F1Ma=0.519]\u001b[A\n",
      "(LR):  38%|██████████████████████████████████████████████▏                                                                            | 1880/5000 [00:01<00:02, acc=0.588, best test F1Mi=0.588, F1Ma=0.519]\u001b[A\n",
      "(LR):  38%|██████████████████████████████████████████████▋                                                                            | 1900/5000 [00:01<00:02, acc=0.588, best test F1Mi=0.588, F1Ma=0.519]\u001b[A\n",
      "(LR):  38%|███████████████████████████████████████████████▏                                                                           | 1920/5000 [00:01<00:02, acc=0.592, best test F1Mi=0.592, F1Ma=0.527]\u001b[A\n",
      "(LR):  39%|███████████████████████████████████████████████▋                                                                           | 1940/5000 [00:01<00:02, acc=0.592, best test F1Mi=0.592, F1Ma=0.527]\u001b[A\n",
      "(LR):  39%|███████████████████████████████████████████████▋                                                                           | 1940/5000 [00:01<00:02, acc=0.592, best test F1Mi=0.592, F1Ma=0.527]\u001b[A\n",
      "(LR):  39%|████████████████████████████████████████████████▏                                                                          | 1960/5000 [00:01<00:02, acc=0.596, best test F1Mi=0.596, F1Ma=0.532]\u001b[A\n"
     ]
    },
    {
     "name": "stderr",
     "output_type": "stream",
     "text": [
      "(LR):  40%|████████████████████████████████████████████████▋                                                                          | 1980/5000 [00:01<00:02, acc=0.596, best test F1Mi=0.596, F1Ma=0.532]\u001b[A\n",
      "(LR):  40%|█████████████████████████████████████████████████▏                                                                         | 2000/5000 [00:01<00:02, acc=0.596, best test F1Mi=0.596, F1Ma=0.532]\u001b[A\n",
      "(LR):  40%|█████████████████████████████████████████████████▋                                                                         | 2020/5000 [00:01<00:02, acc=0.599, best test F1Mi=0.596, F1Ma=0.532]\u001b[A\n",
      "(LR):  41%|██████████████████████████████████████████████████▏                                                                        | 2040/5000 [00:01<00:02, acc=0.599, best test F1Mi=0.596, F1Ma=0.532]\u001b[A\n",
      "(LR):  41%|██████████████████████████████████████████████████▋                                                                        | 2060/5000 [00:01<00:02, acc=0.599, best test F1Mi=0.596, F1Ma=0.532]\u001b[A\n",
      "(LR):  41%|██████████████████████████████████████████████████▋                                                                        | 2060/5000 [00:01<00:02, acc=0.603, best test F1Mi=0.603, F1Ma=0.535]\u001b[A\n",
      "(LR):  42%|███████████████████████████████████████████████████▏                                                                       | 2080/5000 [00:01<00:02, acc=0.599, best test F1Mi=0.599, F1Ma=0.534]\u001b[A\n",
      "(LR):  42%|███████████████████████████████████████████████████▋                                                                       | 2100/5000 [00:01<00:02, acc=0.599, best test F1Mi=0.599, F1Ma=0.534]\u001b[A\n",
      "(LR):  42%|████████████████████████████████████████████████████▏                                                                      | 2120/5000 [00:01<00:02, acc=0.599, best test F1Mi=0.599, F1Ma=0.534]\u001b[A\n",
      "(LR):  43%|████████████████████████████████████████████████████▋                                                                      | 2140/5000 [00:01<00:02, acc=0.599, best test F1Mi=0.599, F1Ma=0.534]\u001b[A\n",
      "(LR):  43%|█████████████████████████████████████████████████████▏                                                                     | 2160/5000 [00:01<00:02, acc=0.599, best test F1Mi=0.599, F1Ma=0.534]\u001b[A\n",
      "(LR):  44%|██████████████████████████████████████████████████████                                                                      | 2180/5000 [00:01<00:02, acc=0.603, best test F1Mi=0.603, F1Ma=0.54]\u001b[A\n",
      "(LR):  44%|██████████████████████████████████████████████████████▌                                                                     | 2200/5000 [00:01<00:02, acc=0.603, best test F1Mi=0.603, F1Ma=0.54]\u001b[A\n",
      "(LR):  44%|██████████████████████████████████████████████████████                                                                     | 2200/5000 [00:02<00:02, acc=0.603, best test F1Mi=0.603, F1Ma=0.541]\u001b[A\n",
      "(LR):  44%|██████████████████████████████████████████████████████▌                                                                    | 2220/5000 [00:02<00:02, acc=0.607, best test F1Mi=0.607, F1Ma=0.545]\u001b[A\n",
      "(LR):  45%|███████████████████████████████████████████████████████                                                                    | 2240/5000 [00:02<00:02, acc=0.603, best test F1Mi=0.603, F1Ma=0.543]\u001b[A\n",
      "(LR):  45%|███████████████████████████████████████████████████████▌                                                                   | 2260/5000 [00:02<00:02, acc=0.599, best test F1Mi=0.603, F1Ma=0.543]\u001b[A\n",
      "(LR):  46%|████████████████████████████████████████████████████████                                                                   | 2280/5000 [00:02<00:02, acc=0.599, best test F1Mi=0.603, F1Ma=0.543]\u001b[A\n",
      "(LR):  46%|████████████████████████████████████████████████████████▌                                                                  | 2300/5000 [00:02<00:02, acc=0.599, best test F1Mi=0.603, F1Ma=0.543]\u001b[A\n",
      "(LR):  46%|█████████████████████████████████████████████████████████                                                                  | 2320/5000 [00:02<00:02, acc=0.603, best test F1Mi=0.603, F1Ma=0.541]\u001b[A\n",
      "(LR):  47%|█████████████████████████████████████████████████████████▌                                                                 | 2340/5000 [00:02<00:02, acc=0.603, best test F1Mi=0.603, F1Ma=0.541]\u001b[A\n",
      "(LR):  47%|█████████████████████████████████████████████████████████▌                                                                 | 2340/5000 [00:02<00:02, acc=0.603, best test F1Mi=0.603, F1Ma=0.541]\u001b[A\n",
      "(LR):  47%|██████████████████████████████████████████████████████████                                                                 | 2360/5000 [00:02<00:02, acc=0.603, best test F1Mi=0.603, F1Ma=0.543]\u001b[A\n",
      "(LR):  48%|██████████████████████████████████████████████████████████▌                                                                | 2380/5000 [00:02<00:02, acc=0.603, best test F1Mi=0.603, F1Ma=0.543]\u001b[A\n",
      "(LR):  48%|███████████████████████████████████████████████████████████                                                                | 2400/5000 [00:02<00:02, acc=0.607, best test F1Mi=0.603, F1Ma=0.543]\u001b[A\n",
      "(LR):  48%|███████████████████████████████████████████████████████████▌                                                               | 2420/5000 [00:02<00:02, acc=0.607, best test F1Mi=0.607, F1Ma=0.555]\u001b[A\n",
      "(LR):  49%|████████████████████████████████████████████████████████████                                                               | 2440/5000 [00:02<00:02, acc=0.607, best test F1Mi=0.607, F1Ma=0.555]\u001b[A\n",
      "(LR):  49%|████████████████████████████████████████████████████████████▌                                                              | 2460/5000 [00:02<00:02, acc=0.607, best test F1Mi=0.607, F1Ma=0.555]\u001b[A\n",
      "(LR):  49%|████████████████████████████████████████████████████████████▌                                                              | 2460/5000 [00:02<00:02, acc=0.607, best test F1Mi=0.607, F1Ma=0.555]\u001b[A\n",
      "(LR):  50%|█████████████████████████████████████████████████████████████                                                              | 2480/5000 [00:02<00:02, acc=0.607, best test F1Mi=0.607, F1Ma=0.555]\u001b[A\n",
      "(LR):  50%|██████████████████████████████████████████████████████████████▌                                                              | 2500/5000 [00:02<00:02, acc=0.61, best test F1Mi=0.61, F1Ma=0.562]\u001b[A\n",
      "(LR):  50%|█████████████████████████████████████████████████████████████▉                                                             | 2520/5000 [00:02<00:02, acc=0.614, best test F1Mi=0.614, F1Ma=0.566]\u001b[A\n",
      "(LR):  51%|██████████████████████████████████████████████████████████████▍                                                            | 2540/5000 [00:02<00:02, acc=0.614, best test F1Mi=0.614, F1Ma=0.566]\u001b[A\n",
      "(LR):  51%|██████████████████████████████████████████████████████████████▉                                                            | 2560/5000 [00:02<00:02, acc=0.614, best test F1Mi=0.614, F1Ma=0.566]\u001b[A\n",
      "(LR):  52%|███████████████████████████████████████████████████████████████▍                                                           | 2580/5000 [00:02<00:02, acc=0.614, best test F1Mi=0.614, F1Ma=0.566]\u001b[A\n",
      "(LR):  52%|███████████████████████████████████████████████████████████████▍                                                           | 2580/5000 [00:02<00:02, acc=0.614, best test F1Mi=0.614, F1Ma=0.566]\u001b[A\n",
      "(LR):  52%|███████████████████████████████████████████████████████████████▉                                                           | 2600/5000 [00:02<00:02, acc=0.618, best test F1Mi=0.614, F1Ma=0.566]\u001b[A\n",
      "(LR):  52%|████████████████████████████████████████████████████████████████▉                                                           | 2620/5000 [00:02<00:02, acc=0.618, best test F1Mi=0.618, F1Ma=0.57]\u001b[A\n",
      "(LR):  53%|████████████████████████████████████████████████████████████████▉                                                          | 2640/5000 [00:02<00:02, acc=0.618, best test F1Mi=0.618, F1Ma=0.569]\u001b[A\n"
     ]
    },
    {
     "name": "stderr",
     "output_type": "stream",
     "text": [
      "(LR):  53%|█████████████████████████████████████████████████████████████████▍                                                         | 2660/5000 [00:02<00:01, acc=0.618, best test F1Mi=0.618, F1Ma=0.567]\u001b[A\n",
      "(LR):  54%|██████████████████████████████████████████████████████████████████▍                                                         | 2680/5000 [00:02<00:01, acc=0.621, best test F1Mi=0.621, F1Ma=0.57]\u001b[A\n",
      "(LR):  54%|██████████████████████████████████████████████████████████████████▉                                                         | 2700/5000 [00:02<00:01, acc=0.621, best test F1Mi=0.621, F1Ma=0.57]\u001b[A\n",
      "(LR):  54%|███████████████████████████████████████████████████████████████████▍                                                        | 2720/5000 [00:02<00:01, acc=0.621, best test F1Mi=0.621, F1Ma=0.57]\u001b[A\n",
      "(LR):  54%|███████████████████████████████████████████████████████████████████▍                                                        | 2720/5000 [00:02<00:01, acc=0.625, best test F1Mi=0.621, F1Ma=0.57]\u001b[A\n",
      "(LR):  55%|███████████████████████████████████████████████████████████████████▍                                                       | 2740/5000 [00:02<00:01, acc=0.625, best test F1Mi=0.625, F1Ma=0.581]\u001b[A\n",
      "(LR):  55%|███████████████████████████████████████████████████████████████████▉                                                       | 2760/5000 [00:02<00:01, acc=0.625, best test F1Mi=0.625, F1Ma=0.581]\u001b[A\n",
      "(LR):  56%|████████████████████████████████████████████████████████████████████▍                                                      | 2780/5000 [00:02<00:01, acc=0.625, best test F1Mi=0.625, F1Ma=0.581]\u001b[A\n",
      "(LR):  56%|████████████████████████████████████████████████████████████████████▉                                                      | 2800/5000 [00:02<00:01, acc=0.625, best test F1Mi=0.625, F1Ma=0.581]\u001b[A\n",
      "(LR):  56%|█████████████████████████████████████████████████████████████████████▎                                                     | 2820/5000 [00:02<00:01, acc=0.629, best test F1Mi=0.629, F1Ma=0.585]\u001b[A\n",
      "(LR):  57%|█████████████████████████████████████████████████████████████████████▊                                                     | 2840/5000 [00:02<00:01, acc=0.629, best test F1Mi=0.629, F1Ma=0.585]\u001b[A\n",
      "(LR):  57%|██████████████████████████████████████████████████████████████████████▎                                                    | 2860/5000 [00:02<00:01, acc=0.629, best test F1Mi=0.629, F1Ma=0.585]\u001b[A\n",
      "(LR):  57%|██████████████████████████████████████████████████████████████████████▎                                                    | 2860/5000 [00:02<00:01, acc=0.629, best test F1Mi=0.629, F1Ma=0.585]\u001b[A\n",
      "(LR):  58%|██████████████████████████████████████████████████████████████████████▊                                                    | 2880/5000 [00:02<00:01, acc=0.632, best test F1Mi=0.629, F1Ma=0.585]\u001b[A\n",
      "(LR):  58%|███████████████████████████████████████████████████████████████████████▎                                                   | 2900/5000 [00:02<00:01, acc=0.636, best test F1Mi=0.636, F1Ma=0.593]\u001b[A\n",
      "(LR):  58%|█████████████████████████████████████████████████████████████████████████                                                    | 2920/5000 [00:02<00:01, acc=0.64, best test F1Mi=0.64, F1Ma=0.597]\u001b[A\n",
      "(LR):  59%|█████████████████████████████████████████████████████████████████████████▌                                                   | 2940/5000 [00:02<00:01, acc=0.64, best test F1Mi=0.64, F1Ma=0.597]\u001b[A\n",
      "(LR):  59%|██████████████████████████████████████████████████████████████████████████                                                   | 2960/5000 [00:02<00:01, acc=0.643, best test F1Mi=0.643, F1Ma=0.6]\u001b[A\n",
      "(LR):  60%|██████████████████████████████████████████████████████████████████████████▌                                                  | 2980/5000 [00:02<00:01, acc=0.643, best test F1Mi=0.643, F1Ma=0.6]\u001b[A\n",
      "(LR):  60%|███████████████████████████████████████████████████████████████████████████                                                  | 3000/5000 [00:02<00:01, acc=0.643, best test F1Mi=0.643, F1Ma=0.6]\u001b[A\n",
      "(LR):  60%|███████████████████████████████████████████████████████████████████████████                                                  | 3000/5000 [00:02<00:01, acc=0.643, best test F1Mi=0.643, F1Ma=0.6]\u001b[A\n",
      "(LR):  60%|██████████████████████████████████████████████████████████████████████████▎                                                | 3020/5000 [00:02<00:01, acc=0.643, best test F1Mi=0.643, F1Ma=0.599]\u001b[A\n",
      "(LR):  61%|███████████████████████████████████████████████████████████████████████████▍                                                | 3040/5000 [00:02<00:01, acc=0.647, best test F1Mi=0.647, F1Ma=0.61]\u001b[A\n",
      "(LR):  61%|███████████████████████████████████████████████████████████████████████████▉                                                | 3060/5000 [00:02<00:01, acc=0.651, best test F1Mi=0.647, F1Ma=0.61]\u001b[A\n",
      "(LR):  62%|███████████████████████████████████████████████████████████████████████████▊                                               | 3080/5000 [00:02<00:01, acc=0.651, best test F1Mi=0.651, F1Ma=0.614]\u001b[A\n",
      "(LR):  62%|████████████████████████████████████████████████████████████████████████████▎                                              | 3100/5000 [00:02<00:01, acc=0.651, best test F1Mi=0.651, F1Ma=0.614]\u001b[A\n",
      "(LR):  62%|████████████████████████████████████████████████████████████████████████████▊                                              | 3120/5000 [00:02<00:01, acc=0.651, best test F1Mi=0.651, F1Ma=0.614]\u001b[A\n",
      "(LR):  63%|█████████████████████████████████████████████████████████████████████████████▏                                             | 3140/5000 [00:02<00:01, acc=0.651, best test F1Mi=0.651, F1Ma=0.614]\u001b[A\n",
      "(LR):  63%|█████████████████████████████████████████████████████████████████████████████▏                                             | 3140/5000 [00:02<00:01, acc=0.651, best test F1Mi=0.651, F1Ma=0.614]\u001b[A\n",
      "(LR):  63%|█████████████████████████████████████████████████████████████████████████████▋                                             | 3160/5000 [00:02<00:01, acc=0.647, best test F1Mi=0.647, F1Ma=0.612]\u001b[A\n",
      "(LR):  64%|██████████████████████████████████████████████████████████████████████████████▏                                            | 3180/5000 [00:02<00:01, acc=0.647, best test F1Mi=0.647, F1Ma=0.612]\u001b[A\n",
      "(LR):  64%|██████████████████████████████████████████████████████████████████████████████▋                                            | 3200/5000 [00:02<00:01, acc=0.647, best test F1Mi=0.647, F1Ma=0.612]\u001b[A\n",
      "(LR):  64%|███████████████████████████████████████████████████████████████████████████████▏                                           | 3220/5000 [00:02<00:01, acc=0.647, best test F1Mi=0.647, F1Ma=0.612]\u001b[A\n",
      "(LR):  65%|███████████████████████████████████████████████████████████████████████████████▋                                           | 3240/5000 [00:02<00:01, acc=0.647, best test F1Mi=0.647, F1Ma=0.612]\u001b[A\n",
      "(LR):  65%|████████████████████████████████████████████████████████████████████████████████▏                                          | 3260/5000 [00:02<00:01, acc=0.647, best test F1Mi=0.647, F1Ma=0.612]\u001b[A\n",
      "(LR):  65%|████████████████████████████████████████████████████████████████████████████████▏                                          | 3260/5000 [00:02<00:01, acc=0.647, best test F1Mi=0.647, F1Ma=0.612]\u001b[A\n",
      "(LR):  66%|████████████████████████████████████████████████████████████████████████████████▋                                          | 3280/5000 [00:02<00:01, acc=0.647, best test F1Mi=0.647, F1Ma=0.608]\u001b[A\n",
      "(LR):  66%|█████████████████████████████████████████████████████████████████████████████████▏                                         | 3300/5000 [00:02<00:01, acc=0.647, best test F1Mi=0.647, F1Ma=0.608]\u001b[A\n",
      "(LR):  66%|█████████████████████████████████████████████████████████████████████████████████▋                                         | 3320/5000 [00:02<00:01, acc=0.647, best test F1Mi=0.647, F1Ma=0.608]\u001b[A\n"
     ]
    },
    {
     "name": "stderr",
     "output_type": "stream",
     "text": [
      "(LR):  67%|██████████████████████████████████████████████████████████████████████████████████▏                                        | 3340/5000 [00:02<00:01, acc=0.647, best test F1Mi=0.647, F1Ma=0.608]\u001b[A\n",
      "(LR):  67%|██████████████████████████████████████████████████████████████████████████████████▋                                        | 3360/5000 [00:02<00:01, acc=0.651, best test F1Mi=0.651, F1Ma=0.612]\u001b[A\n",
      "(LR):  68%|███████████████████████████████████████████████████████████████████████████████████▏                                       | 3380/5000 [00:03<00:01, acc=0.651, best test F1Mi=0.651, F1Ma=0.612]\u001b[A\n",
      "(LR):  68%|███████████████████████████████████████████████████████████████████████████████████▋                                       | 3400/5000 [00:03<00:01, acc=0.651, best test F1Mi=0.651, F1Ma=0.612]\u001b[A\n",
      "(LR):  68%|███████████████████████████████████████████████████████████████████████████████████▋                                       | 3400/5000 [00:03<00:01, acc=0.651, best test F1Mi=0.651, F1Ma=0.612]\u001b[A\n",
      "(LR):  68%|████████████████████████████████████████████████████████████████████████████████████▏                                      | 3420/5000 [00:03<00:01, acc=0.651, best test F1Mi=0.651, F1Ma=0.612]\u001b[A\n",
      "(LR):  69%|████████████████████████████████████████████████████████████████████████████████████▌                                      | 3440/5000 [00:03<00:01, acc=0.651, best test F1Mi=0.651, F1Ma=0.611]\u001b[A\n",
      "(LR):  69%|█████████████████████████████████████████████████████████████████████████████████████                                      | 3460/5000 [00:03<00:01, acc=0.651, best test F1Mi=0.651, F1Ma=0.611]\u001b[A\n",
      "(LR):  70%|█████████████████████████████████████████████████████████████████████████████████████▌                                     | 3480/5000 [00:03<00:01, acc=0.651, best test F1Mi=0.651, F1Ma=0.611]\u001b[A\n",
      "(LR):  70%|██████████████████████████████████████████████████████████████████████████████████████                                     | 3500/5000 [00:03<00:01, acc=0.651, best test F1Mi=0.651, F1Ma=0.611]\u001b[A\n",
      "(LR):  70%|██████████████████████████████████████████████████████████████████████████████████████▌                                    | 3520/5000 [00:03<00:01, acc=0.651, best test F1Mi=0.651, F1Ma=0.611]\u001b[A\n",
      "(LR):  71%|███████████████████████████████████████████████████████████████████████████████████████                                    | 3540/5000 [00:03<00:01, acc=0.651, best test F1Mi=0.651, F1Ma=0.611]\u001b[A\n",
      "(LR):  71%|███████████████████████████████████████████████████████████████████████████████████████                                    | 3540/5000 [00:03<00:01, acc=0.654, best test F1Mi=0.654, F1Ma=0.616]\u001b[A\n",
      "(LR):  71%|███████████████████████████████████████████████████████████████████████████████████████▌                                   | 3560/5000 [00:03<00:01, acc=0.654, best test F1Mi=0.654, F1Ma=0.616]\u001b[A\n",
      "(LR):  72%|████████████████████████████████████████████████████████████████████████████████████████                                   | 3580/5000 [00:03<00:01, acc=0.654, best test F1Mi=0.654, F1Ma=0.615]\u001b[A\n",
      "(LR):  72%|████████████████████████████████████████████████████████████████████████████████████████▌                                  | 3600/5000 [00:03<00:01, acc=0.654, best test F1Mi=0.654, F1Ma=0.615]\u001b[A\n",
      "(LR):  72%|█████████████████████████████████████████████████████████████████████████████████████████                                  | 3620/5000 [00:03<00:01, acc=0.662, best test F1Mi=0.654, F1Ma=0.615]\u001b[A\n",
      "(LR):  73%|█████████████████████████████████████████████████████████████████████████████████████████▌                                 | 3640/5000 [00:03<00:01, acc=0.662, best test F1Mi=0.662, F1Ma=0.629]\u001b[A\n",
      "(LR):  73%|██████████████████████████████████████████████████████████████████████████████████████████                                 | 3660/5000 [00:03<00:01, acc=0.662, best test F1Mi=0.662, F1Ma=0.629]\u001b[A\n",
      "(LR):  74%|██████████████████████████████████████████████████████████████████████████████████████████▌                                | 3680/5000 [00:03<00:01, acc=0.662, best test F1Mi=0.662, F1Ma=0.629]\u001b[A\n",
      "(LR):  74%|██████████████████████████████████████████████████████████████████████████████████████████▌                                | 3680/5000 [00:03<00:01, acc=0.662, best test F1Mi=0.662, F1Ma=0.629]\u001b[A\n",
      "(LR):  74%|███████████████████████████████████████████████████████████████████████████████████████████                                | 3700/5000 [00:03<00:01, acc=0.662, best test F1Mi=0.662, F1Ma=0.629]\u001b[A\n",
      "(LR):  74%|███████████████████████████████████████████████████████████████████████████████████████████▌                               | 3720/5000 [00:03<00:01, acc=0.662, best test F1Mi=0.662, F1Ma=0.629]\u001b[A\n",
      "(LR):  75%|████████████████████████████████████████████████████████████████████████████████████████████                               | 3740/5000 [00:03<00:01, acc=0.662, best test F1Mi=0.662, F1Ma=0.629]\u001b[A\n",
      "(LR):  75%|████████████████████████████████████████████████████████████████████████████████████████████▍                              | 3760/5000 [00:03<00:01, acc=0.662, best test F1Mi=0.662, F1Ma=0.629]\u001b[A\n",
      "(LR):  76%|████████████████████████████████████████████████████████████████████████████████████████████▉                              | 3780/5000 [00:03<00:01, acc=0.665, best test F1Mi=0.662, F1Ma=0.629]\u001b[A\n",
      "(LR):  76%|█████████████████████████████████████████████████████████████████████████████████████████████▍                             | 3800/5000 [00:03<00:00, acc=0.665, best test F1Mi=0.665, F1Ma=0.637]\u001b[A\n",
      "(LR):  76%|█████████████████████████████████████████████████████████████████████████████████████████████▉                             | 3820/5000 [00:03<00:00, acc=0.665, best test F1Mi=0.665, F1Ma=0.637]\u001b[A\n",
      "(LR):  76%|██████████████████████████████████████████████████████████████████████████████████████████████▋                             | 3820/5000 [00:03<00:00, acc=0.669, best test F1Mi=0.669, F1Ma=0.64]\u001b[A\n",
      "(LR):  77%|███████████████████████████████████████████████████████████████████████████████████████████████▏                            | 3840/5000 [00:03<00:00, acc=0.669, best test F1Mi=0.669, F1Ma=0.64]\u001b[A\n",
      "(LR):  77%|███████████████████████████████████████████████████████████████████████████████████████████████▋                            | 3860/5000 [00:03<00:00, acc=0.669, best test F1Mi=0.669, F1Ma=0.64]\u001b[A\n",
      "(LR):  78%|████████████████████████████████████████████████████████████████████████████████████████████████▏                           | 3880/5000 [00:03<00:00, acc=0.669, best test F1Mi=0.669, F1Ma=0.64]\u001b[A\n",
      "(LR):  78%|████████████████████████████████████████████████████████████████████████████████████████████████▋                           | 3900/5000 [00:03<00:00, acc=0.669, best test F1Mi=0.669, F1Ma=0.64]\u001b[A\n",
      "(LR):  78%|█████████████████████████████████████████████████████████████████████████████████████████████████▏                          | 3920/5000 [00:03<00:00, acc=0.669, best test F1Mi=0.669, F1Ma=0.64]\u001b[A\n",
      "(LR):  79%|█████████████████████████████████████████████████████████████████████████████████████████████████▋                          | 3940/5000 [00:03<00:00, acc=0.665, best test F1Mi=0.669, F1Ma=0.64]\u001b[A\n",
      "(LR):  79%|██████████████████████████████████████████████████████████████████████████████████████████████████▏                         | 3960/5000 [00:03<00:00, acc=0.665, best test F1Mi=0.669, F1Ma=0.64]\u001b[A\n",
      "(LR):  79%|██████████████████████████████████████████████████████████████████████████████████████████████████▏                         | 3960/5000 [00:03<00:00, acc=0.665, best test F1Mi=0.669, F1Ma=0.64]\u001b[A\n",
      "(LR):  80%|██████████████████████████████████████████████████████████████████████████████████████████████████▋                         | 3980/5000 [00:03<00:00, acc=0.665, best test F1Mi=0.669, F1Ma=0.64]\u001b[A\n",
      "(LR):  80%|███████████████████████████████████████████████████████████████████████████████████████████████████▏                        | 4000/5000 [00:03<00:00, acc=0.665, best test F1Mi=0.669, F1Ma=0.64]\u001b[A\n"
     ]
    },
    {
     "name": "stderr",
     "output_type": "stream",
     "text": [
      "(LR):  80%|███████████████████████████████████████████████████████████████████████████████████████████████████▋                        | 4020/5000 [00:03<00:00, acc=0.665, best test F1Mi=0.669, F1Ma=0.64]\u001b[A\n",
      "(LR):  81%|████████████████████████████████████████████████████████████████████████████████████████████████████▏                       | 4040/5000 [00:03<00:00, acc=0.665, best test F1Mi=0.669, F1Ma=0.64]\u001b[A\n",
      "(LR):  81%|████████████████████████████████████████████████████████████████████████████████████████████████████▋                       | 4060/5000 [00:03<00:00, acc=0.669, best test F1Mi=0.669, F1Ma=0.64]\u001b[A\n",
      "(LR):  82%|█████████████████████████████████████████████████████████████████████████████████████████████████████▏                      | 4080/5000 [00:03<00:00, acc=0.669, best test F1Mi=0.669, F1Ma=0.64]\u001b[A\n",
      "(LR):  82%|█████████████████████████████████████████████████████████████████████████████████████████████████████▋                      | 4100/5000 [00:03<00:00, acc=0.669, best test F1Mi=0.669, F1Ma=0.64]\u001b[A\n",
      "(LR):  82%|█████████████████████████████████████████████████████████████████████████████████████████████████████▋                      | 4100/5000 [00:03<00:00, acc=0.669, best test F1Mi=0.669, F1Ma=0.64]\u001b[A\n",
      "(LR):  82%|██████████████████████████████████████████████████████████████████████████████████████████████████████▏                     | 4120/5000 [00:03<00:00, acc=0.669, best test F1Mi=0.669, F1Ma=0.64]\u001b[A\n",
      "(LR):  83%|██████████████████████████████████████████████████████████████████████████████████████████████████████▋                     | 4140/5000 [00:03<00:00, acc=0.669, best test F1Mi=0.669, F1Ma=0.64]\u001b[A\n",
      "(LR):  83%|███████████████████████████████████████████████████████████████████████████████████████████████████████▏                    | 4160/5000 [00:03<00:00, acc=0.669, best test F1Mi=0.669, F1Ma=0.64]\u001b[A\n",
      "(LR):  84%|███████████████████████████████████████████████████████████████████████████████████████████████████████▋                    | 4180/5000 [00:03<00:00, acc=0.669, best test F1Mi=0.669, F1Ma=0.64]\u001b[A\n",
      "(LR):  84%|████████████████████████████████████████████████████████████████████████████████████████████████████████▏                   | 4200/5000 [00:03<00:00, acc=0.669, best test F1Mi=0.669, F1Ma=0.64]\u001b[A\n",
      "(LR):  84%|████████████████████████████████████████████████████████████████████████████████████████████████████████▋                   | 4220/5000 [00:03<00:00, acc=0.669, best test F1Mi=0.669, F1Ma=0.64]\u001b[A\n",
      "(LR):  84%|████████████████████████████████████████████████████████████████████████████████████████████████████████▋                   | 4220/5000 [00:03<00:00, acc=0.669, best test F1Mi=0.669, F1Ma=0.64]\u001b[A\n",
      "(LR):  85%|█████████████████████████████████████████████████████████████████████████████████████████████████████████▏                  | 4240/5000 [00:03<00:00, acc=0.669, best test F1Mi=0.669, F1Ma=0.64]\u001b[A\n",
      "(LR):  85%|█████████████████████████████████████████████████████████████████████████████████████████████████████████▋                  | 4260/5000 [00:03<00:00, acc=0.669, best test F1Mi=0.669, F1Ma=0.64]\u001b[A\n",
      "(LR):  86%|█████████████████████████████████████████████████████████████████████████████████████████████████████████▎                 | 4280/5000 [00:03<00:00, acc=0.669, best test F1Mi=0.669, F1Ma=0.643]\u001b[A\n",
      "(LR):  86%|█████████████████████████████████████████████████████████████████████████████████████████████████████████▊                 | 4300/5000 [00:03<00:00, acc=0.669, best test F1Mi=0.669, F1Ma=0.643]\u001b[A\n",
      "(LR):  86%|██████████████████████████████████████████████████████████████████████████████████████████████████████████▎                | 4320/5000 [00:03<00:00, acc=0.669, best test F1Mi=0.669, F1Ma=0.643]\u001b[A\n",
      "(LR):  87%|██████████████████████████████████████████████████████████████████████████████████████████████████████████▊                | 4340/5000 [00:03<00:00, acc=0.669, best test F1Mi=0.669, F1Ma=0.643]\u001b[A\n",
      "(LR):  87%|██████████████████████████████████████████████████████████████████████████████████████████████████████████▊                | 4340/5000 [00:03<00:00, acc=0.669, best test F1Mi=0.669, F1Ma=0.643]\u001b[A\n",
      "(LR):  87%|███████████████████████████████████████████████████████████████████████████████████████████████████████████▎               | 4360/5000 [00:03<00:00, acc=0.669, best test F1Mi=0.669, F1Ma=0.643]\u001b[A\n",
      "(LR):  88%|███████████████████████████████████████████████████████████████████████████████████████████████████████████▋               | 4380/5000 [00:03<00:00, acc=0.669, best test F1Mi=0.669, F1Ma=0.642]\u001b[A\n",
      "(LR):  88%|████████████████████████████████████████████████████████████████████████████████████████████████████████████▏              | 4400/5000 [00:03<00:00, acc=0.669, best test F1Mi=0.669, F1Ma=0.642]\u001b[A\n",
      "(LR):  88%|████████████████████████████████████████████████████████████████████████████████████████████████████████████▋              | 4420/5000 [00:03<00:00, acc=0.669, best test F1Mi=0.669, F1Ma=0.642]\u001b[A\n",
      "(LR):  89%|█████████████████████████████████████████████████████████████████████████████████████████████████████████████▏             | 4440/5000 [00:03<00:00, acc=0.669, best test F1Mi=0.669, F1Ma=0.642]\u001b[A\n",
      "(LR):  89%|█████████████████████████████████████████████████████████████████████████████████████████████████████████████▋             | 4460/5000 [00:03<00:00, acc=0.669, best test F1Mi=0.669, F1Ma=0.642]\u001b[A\n",
      "(LR):  89%|█████████████████████████████████████████████████████████████████████████████████████████████████████████████▋             | 4460/5000 [00:03<00:00, acc=0.669, best test F1Mi=0.669, F1Ma=0.642]\u001b[A\n",
      "(LR):  90%|██████████████████████████████████████████████████████████████████████████████████████████████████████████████▏            | 4480/5000 [00:03<00:00, acc=0.669, best test F1Mi=0.669, F1Ma=0.642]\u001b[A\n",
      "(LR):  90%|██████████████████████████████████████████████████████████████████████████████████████████████████████████████▋            | 4500/5000 [00:03<00:00, acc=0.669, best test F1Mi=0.669, F1Ma=0.642]\u001b[A\n",
      "(LR):  90%|███████████████████████████████████████████████████████████████████████████████████████████████████████████████▏           | 4520/5000 [00:03<00:00, acc=0.669, best test F1Mi=0.669, F1Ma=0.642]\u001b[A\n",
      "(LR):  91%|███████████████████████████████████████████████████████████████████████████████████████████████████████████████▋           | 4540/5000 [00:03<00:00, acc=0.669, best test F1Mi=0.669, F1Ma=0.642]\u001b[A\n",
      "(LR):  91%|████████████████████████████████████████████████████████████████████████████████████████████████████████████████▏          | 4560/5000 [00:03<00:00, acc=0.669, best test F1Mi=0.669, F1Ma=0.642]\u001b[A\n",
      "(LR):  92%|████████████████████████████████████████████████████████████████████████████████████████████████████████████████▋          | 4580/5000 [00:04<00:00, acc=0.669, best test F1Mi=0.669, F1Ma=0.642]\u001b[A\n",
      "(LR):  92%|█████████████████████████████████████████████████████████████████████████████████████████████████████████████████▏         | 4600/5000 [00:04<00:00, acc=0.669, best test F1Mi=0.669, F1Ma=0.642]\u001b[A\n",
      "(LR):  92%|█████████████████████████████████████████████████████████████████████████████████████████████████████████████████▏         | 4600/5000 [00:04<00:00, acc=0.669, best test F1Mi=0.669, F1Ma=0.642]\u001b[A\n",
      "(LR):  92%|██████████████████████████████████████████████████████████████████████████████████████████████████████████████████▌         | 4620/5000 [00:04<00:00, acc=0.673, best test F1Mi=0.673, F1Ma=0.65]\u001b[A\n",
      "(LR):  93%|███████████████████████████████████████████████████████████████████████████████████████████████████████████████████         | 4640/5000 [00:04<00:00, acc=0.673, best test F1Mi=0.673, F1Ma=0.65]\u001b[A\n",
      "(LR):  93%|███████████████████████████████████████████████████████████████████████████████████████████████████████████████████▌        | 4660/5000 [00:04<00:00, acc=0.673, best test F1Mi=0.673, F1Ma=0.65]\u001b[A\n",
      "(LR):  94%|████████████████████████████████████████████████████████████████████████████████████████████████████████████████████        | 4680/5000 [00:04<00:00, acc=0.673, best test F1Mi=0.673, F1Ma=0.65]\u001b[A\n"
     ]
    },
    {
     "name": "stderr",
     "output_type": "stream",
     "text": [
      "(LR):  94%|████████████████████████████████████████████████████████████████████████████████████████████████████████████████████▌       | 4700/5000 [00:04<00:00, acc=0.673, best test F1Mi=0.673, F1Ma=0.65]\u001b[A\n",
      "(LR):  94%|█████████████████████████████████████████████████████████████████████████████████████████████████████████████████████       | 4720/5000 [00:04<00:00, acc=0.673, best test F1Mi=0.673, F1Ma=0.65]\u001b[A\n",
      "(LR):  95%|█████████████████████████████████████████████████████████████████████████████████████████████████████████████████████▌      | 4740/5000 [00:04<00:00, acc=0.673, best test F1Mi=0.673, F1Ma=0.65]\u001b[A\n",
      "(LR):  95%|█████████████████████████████████████████████████████████████████████████████████████████████████████████████████████▌      | 4740/5000 [00:04<00:00, acc=0.673, best test F1Mi=0.673, F1Ma=0.65]\u001b[A\n",
      "(LR):  95%|██████████████████████████████████████████████████████████████████████████████████████████████████████████████████████      | 4760/5000 [00:04<00:00, acc=0.673, best test F1Mi=0.673, F1Ma=0.65]\u001b[A\n",
      "(LR):  96%|██████████████████████████████████████████████████████████████████████████████████████████████████████████████████████▌     | 4780/5000 [00:04<00:00, acc=0.673, best test F1Mi=0.673, F1Ma=0.65]\u001b[A\n",
      "(LR):  96%|███████████████████████████████████████████████████████████████████████████████████████████████████████████████████████     | 4800/5000 [00:04<00:00, acc=0.676, best test F1Mi=0.673, F1Ma=0.65]\u001b[A\n",
      "(LR):  96%|███████████████████████████████████████████████████████████████████████████████████████████████████████████████████████▌    | 4820/5000 [00:04<00:00, acc=0.676, best test F1Mi=0.673, F1Ma=0.65]\u001b[A\n",
      "(LR):  97%|████████████████████████████████████████████████████████████████████████████████████████████████████████████████████████    | 4840/5000 [00:04<00:00, acc=0.673, best test F1Mi=0.673, F1Ma=0.65]\u001b[A\n",
      "(LR):  97%|████████████████████████████████████████████████████████████████████████████████████████████████████████████████████████▌   | 4860/5000 [00:04<00:00, acc=0.673, best test F1Mi=0.673, F1Ma=0.65]\u001b[A\n",
      "(LR):  98%|█████████████████████████████████████████████████████████████████████████████████████████████████████████████████████████   | 4880/5000 [00:04<00:00, acc=0.673, best test F1Mi=0.673, F1Ma=0.65]\u001b[A\n",
      "(LR):  98%|█████████████████████████████████████████████████████████████████████████████████████████████████████████████████████████   | 4880/5000 [00:04<00:00, acc=0.673, best test F1Mi=0.673, F1Ma=0.65]\u001b[A\n",
      "(LR):  98%|█████████████████████████████████████████████████████████████████████████████████████████████████████████████████████████▌  | 4900/5000 [00:04<00:00, acc=0.673, best test F1Mi=0.673, F1Ma=0.65]\u001b[A\n",
      "(LR):  98%|██████████████████████████████████████████████████████████████████████████████████████████████████████████████████████████  | 4920/5000 [00:04<00:00, acc=0.673, best test F1Mi=0.673, F1Ma=0.65]\u001b[A\n",
      "(LR):  99%|██████████████████████████████████████████████████████████████████████████████████████████████████████████████████████████▌ | 4940/5000 [00:04<00:00, acc=0.673, best test F1Mi=0.673, F1Ma=0.65]\u001b[A\n",
      "(LR):  99%|███████████████████████████████████████████████████████████████████████████████████████████████████████████████████████████ | 4960/5000 [00:04<00:00, acc=0.673, best test F1Mi=0.673, F1Ma=0.65]\u001b[A\n",
      "(LR): 100%|████████████████████████████████████████████████████████████████████████████████████████████████████████████████████████████| 5000/5000 [00:04<00:00, acc=0.673, best test F1Mi=0.673, F1Ma=0.65]\u001b[A\n"
     ]
    },
    {
     "name": "stdout",
     "output_type": "stream",
     "text": [
      "(E): Best test F1Mi=0.6728, F1Ma=0.6495\n"
     ]
    },
    {
     "name": "stderr",
     "output_type": "stream",
     "text": [
      "(T):  10%|██████████████▋                                                                                                                                    | 100/1000 [01:54<16:28,  1.10s/it, loss=-8.69]\n",
      "(LR):   0%|                                                                                                                                                                               | 0/5000 [00:00<?]\u001b[A\n",
      "(LR):   0%|                                                                                                                                 | 0/5000 [00:00<?, acc=0.309, best test F1Mi=0.309, F1Ma=0.0732]\u001b[A\n",
      "(LR):   0%|▍                                                                                                                           | 20/5000 [00:00<00:07, acc=0.298, best test F1Mi=0.298, F1Ma=0.0943]\u001b[A\n",
      "(LR):   1%|▉                                                                                                                           | 40/5000 [00:00<00:05, acc=0.298, best test F1Mi=0.298, F1Ma=0.0943]\u001b[A\n",
      "(LR):   1%|█▍                                                                                                                          | 60/5000 [00:00<00:05, acc=0.298, best test F1Mi=0.298, F1Ma=0.0943]\u001b[A\n",
      "(LR):   2%|██                                                                                                                           | 80/5000 [00:00<00:04, acc=0.305, best test F1Mi=0.305, F1Ma=0.101]\u001b[A\n",
      "(LR):   2%|██▍                                                                                                                         | 100/5000 [00:00<00:04, acc=0.305, best test F1Mi=0.305, F1Ma=0.101]\u001b[A\n",
      "(LR):   2%|██▉                                                                                                                         | 120/5000 [00:00<00:04, acc=0.305, best test F1Mi=0.305, F1Ma=0.101]\u001b[A\n",
      "(LR):   3%|███▍                                                                                                                        | 140/5000 [00:00<00:03, acc=0.305, best test F1Mi=0.305, F1Ma=0.101]\u001b[A\n",
      "(LR):   3%|███▍                                                                                                                        | 140/5000 [00:00<00:03, acc=0.305, best test F1Mi=0.305, F1Ma=0.101]\u001b[A\n",
      "(LR):   3%|███▉                                                                                                                        | 160/5000 [00:00<00:03, acc=0.309, best test F1Mi=0.309, F1Ma=0.104]\u001b[A\n",
      "(LR):   4%|████▍                                                                                                                       | 180/5000 [00:00<00:03, acc=0.316, best test F1Mi=0.316, F1Ma=0.113]\u001b[A\n",
      "(LR):   4%|████▉                                                                                                                       | 200/5000 [00:00<00:03, acc=0.316, best test F1Mi=0.316, F1Ma=0.113]\u001b[A\n",
      "(LR):   4%|█████▌                                                                                                                         | 220/5000 [00:00<00:03, acc=0.32, best test F1Mi=0.32, F1Ma=0.12]\u001b[A\n",
      "(LR):   5%|█████▉                                                                                                                      | 240/5000 [00:00<00:03, acc=0.327, best test F1Mi=0.327, F1Ma=0.131]\u001b[A\n",
      "(LR):   5%|██████▍                                                                                                                     | 260/5000 [00:00<00:03, acc=0.338, best test F1Mi=0.338, F1Ma=0.147]\u001b[A\n",
      "(LR):   6%|██████▉                                                                                                                     | 280/5000 [00:00<00:03, acc=0.338, best test F1Mi=0.338, F1Ma=0.147]\u001b[A\n",
      "(LR):   6%|██████▉                                                                                                                     | 280/5000 [00:00<00:03, acc=0.342, best test F1Mi=0.342, F1Ma=0.152]\u001b[A\n",
      "(LR):   6%|███████▍                                                                                                                    | 300/5000 [00:00<00:03, acc=0.346, best test F1Mi=0.346, F1Ma=0.155]\u001b[A\n",
      "(LR):   6%|███████▉                                                                                                                    | 320/5000 [00:00<00:03, acc=0.353, best test F1Mi=0.353, F1Ma=0.167]\u001b[A\n",
      "(LR):   7%|████████▍                                                                                                                   | 340/5000 [00:00<00:03, acc=0.357, best test F1Mi=0.357, F1Ma=0.178]\u001b[A\n",
      "(LR):   7%|████████▉                                                                                                                   | 360/5000 [00:00<00:03, acc=0.353, best test F1Mi=0.353, F1Ma=0.177]\u001b[A\n",
      "(LR):   8%|█████████▍                                                                                                                  | 380/5000 [00:00<00:03, acc=0.353, best test F1Mi=0.353, F1Ma=0.177]\u001b[A\n",
      "(LR):   8%|█████████▉                                                                                                                  | 400/5000 [00:00<00:03, acc=0.349, best test F1Mi=0.349, F1Ma=0.176]\u001b[A\n",
      "(LR):   8%|██████████▍                                                                                                                 | 420/5000 [00:00<00:03, acc=0.349, best test F1Mi=0.349, F1Ma=0.176]\u001b[A\n",
      "(LR):   8%|██████████▍                                                                                                                 | 420/5000 [00:00<00:03, acc=0.349, best test F1Mi=0.349, F1Ma=0.176]\u001b[A\n",
      "(LR):   9%|██████████▉                                                                                                                 | 440/5000 [00:00<00:03, acc=0.346, best test F1Mi=0.346, F1Ma=0.174]\u001b[A\n",
      "(LR):   9%|███████████▍                                                                                                                | 460/5000 [00:00<00:03, acc=0.346, best test F1Mi=0.346, F1Ma=0.178]\u001b[A\n",
      "(LR):  10%|███████████▉                                                                                                                | 480/5000 [00:00<00:03, acc=0.349, best test F1Mi=0.349, F1Ma=0.186]\u001b[A\n",
      "(LR):  10%|████████████▍                                                                                                               | 500/5000 [00:00<00:03, acc=0.353, best test F1Mi=0.353, F1Ma=0.196]\u001b[A\n",
      "(LR):  10%|████████████▉                                                                                                               | 520/5000 [00:00<00:03, acc=0.357, best test F1Mi=0.357, F1Ma=0.197]\u001b[A\n",
      "(LR):  11%|█████████████▌                                                                                                                | 540/5000 [00:00<00:03, acc=0.36, best test F1Mi=0.36, F1Ma=0.204]\u001b[A\n",
      "(LR):  11%|██████████████                                                                                                                | 560/5000 [00:00<00:03, acc=0.36, best test F1Mi=0.36, F1Ma=0.204]\u001b[A\n",
      "(LR):  11%|█████████████▉                                                                                                              | 560/5000 [00:00<00:03, acc=0.364, best test F1Mi=0.364, F1Ma=0.211]\u001b[A\n",
      "(LR):  12%|██████████████▍                                                                                                             | 580/5000 [00:00<00:03, acc=0.364, best test F1Mi=0.364, F1Ma=0.216]\u001b[A\n",
      "(LR):  12%|██████████████▉                                                                                                             | 600/5000 [00:00<00:03, acc=0.364, best test F1Mi=0.364, F1Ma=0.216]\u001b[A\n",
      "(LR):  12%|███████████████▍                                                                                                            | 620/5000 [00:00<00:03, acc=0.364, best test F1Mi=0.364, F1Ma=0.216]\u001b[A\n",
      "(LR):  13%|███████████████▊                                                                                                            | 640/5000 [00:00<00:03, acc=0.371, best test F1Mi=0.371, F1Ma=0.224]\u001b[A\n"
     ]
    },
    {
     "name": "stderr",
     "output_type": "stream",
     "text": [
      "(LR):  13%|████████████████▎                                                                                                           | 660/5000 [00:00<00:03, acc=0.371, best test F1Mi=0.371, F1Ma=0.224]\u001b[A\n",
      "(LR):  14%|████████████████▊                                                                                                           | 680/5000 [00:00<00:03, acc=0.371, best test F1Mi=0.371, F1Ma=0.224]\u001b[A\n",
      "(LR):  14%|████████████████▊                                                                                                           | 680/5000 [00:00<00:03, acc=0.371, best test F1Mi=0.371, F1Ma=0.224]\u001b[A\n",
      "(LR):  14%|█████████████████▎                                                                                                          | 700/5000 [00:00<00:03, acc=0.375, best test F1Mi=0.375, F1Ma=0.231]\u001b[A\n",
      "(LR):  14%|█████████████████▊                                                                                                          | 720/5000 [00:00<00:03, acc=0.375, best test F1Mi=0.375, F1Ma=0.231]\u001b[A\n",
      "(LR):  15%|██████████████████▎                                                                                                         | 740/5000 [00:00<00:03, acc=0.375, best test F1Mi=0.375, F1Ma=0.231]\u001b[A\n",
      "(LR):  15%|██████████████████▊                                                                                                         | 760/5000 [00:00<00:03, acc=0.375, best test F1Mi=0.375, F1Ma=0.231]\u001b[A\n",
      "(LR):  16%|███████████████████▎                                                                                                        | 780/5000 [00:00<00:03, acc=0.375, best test F1Mi=0.375, F1Ma=0.231]\u001b[A\n",
      "(LR):  16%|███████████████████▊                                                                                                        | 800/5000 [00:00<00:03, acc=0.375, best test F1Mi=0.375, F1Ma=0.231]\u001b[A\n",
      "(LR):  16%|███████████████████▊                                                                                                        | 800/5000 [00:00<00:03, acc=0.371, best test F1Mi=0.371, F1Ma=0.229]\u001b[A\n",
      "(LR):  16%|████████████████████▎                                                                                                       | 820/5000 [00:00<00:03, acc=0.368, best test F1Mi=0.368, F1Ma=0.226]\u001b[A\n",
      "(LR):  17%|████████████████████▊                                                                                                       | 840/5000 [00:00<00:03, acc=0.371, best test F1Mi=0.371, F1Ma=0.228]\u001b[A\n",
      "(LR):  17%|█████████████████████▎                                                                                                      | 860/5000 [00:00<00:03, acc=0.375, best test F1Mi=0.375, F1Ma=0.234]\u001b[A\n",
      "(LR):  18%|█████████████████████▊                                                                                                      | 880/5000 [00:00<00:03, acc=0.379, best test F1Mi=0.379, F1Ma=0.237]\u001b[A\n",
      "(LR):  18%|██████████████████████▎                                                                                                     | 900/5000 [00:00<00:03, acc=0.379, best test F1Mi=0.379, F1Ma=0.237]\u001b[A\n",
      "(LR):  18%|██████████████████████▊                                                                                                     | 920/5000 [00:00<00:03, acc=0.379, best test F1Mi=0.379, F1Ma=0.237]\u001b[A\n",
      "(LR):  18%|██████████████████████▊                                                                                                     | 920/5000 [00:00<00:03, acc=0.379, best test F1Mi=0.379, F1Ma=0.237]\u001b[A\n",
      "(LR):  19%|███████████████████████▎                                                                                                    | 940/5000 [00:00<00:03, acc=0.379, best test F1Mi=0.379, F1Ma=0.237]\u001b[A\n",
      "(LR):  19%|███████████████████████▊                                                                                                    | 960/5000 [00:00<00:03, acc=0.379, best test F1Mi=0.379, F1Ma=0.237]\u001b[A\n",
      "(LR):  20%|████████████████████████▎                                                                                                   | 980/5000 [00:00<00:03, acc=0.379, best test F1Mi=0.379, F1Ma=0.237]\u001b[A\n",
      "(LR):  20%|████████████████████████▌                                                                                                  | 1000/5000 [00:00<00:03, acc=0.382, best test F1Mi=0.382, F1Ma=0.244]\u001b[A\n",
      "(LR):  20%|█████████████████████████                                                                                                  | 1020/5000 [00:00<00:03, acc=0.386, best test F1Mi=0.382, F1Ma=0.244]\u001b[A\n",
      "(LR):  21%|█████████████████████████▌                                                                                                 | 1040/5000 [00:00<00:03, acc=0.386, best test F1Mi=0.382, F1Ma=0.244]\u001b[A\n",
      "(LR):  21%|█████████████████████████▌                                                                                                 | 1040/5000 [00:00<00:03, acc=0.386, best test F1Mi=0.386, F1Ma=0.247]\u001b[A\n",
      "(LR):  21%|██████████████████████████                                                                                                 | 1060/5000 [00:00<00:03, acc=0.386, best test F1Mi=0.386, F1Ma=0.247]\u001b[A\n",
      "(LR):  22%|██████████████████████████▌                                                                                                | 1080/5000 [00:00<00:03, acc=0.393, best test F1Mi=0.393, F1Ma=0.268]\u001b[A\n",
      "(LR):  22%|███████████████████████████                                                                                                | 1100/5000 [00:00<00:03, acc=0.397, best test F1Mi=0.397, F1Ma=0.281]\u001b[A\n",
      "(LR):  22%|███████████████████████████▌                                                                                               | 1120/5000 [00:00<00:03, acc=0.397, best test F1Mi=0.397, F1Ma=0.281]\u001b[A\n",
      "(LR):  23%|████████████████████████████                                                                                               | 1140/5000 [00:01<00:03, acc=0.397, best test F1Mi=0.397, F1Ma=0.281]\u001b[A\n",
      "(LR):  23%|████████████████████████████▌                                                                                              | 1160/5000 [00:01<00:03, acc=0.397, best test F1Mi=0.397, F1Ma=0.281]\u001b[A\n",
      "(LR):  24%|█████████████████████████████                                                                                              | 1180/5000 [00:01<00:03, acc=0.397, best test F1Mi=0.397, F1Ma=0.281]\u001b[A\n",
      "(LR):  24%|█████████████████████████████                                                                                              | 1180/5000 [00:01<00:03, acc=0.401, best test F1Mi=0.401, F1Ma=0.294]\u001b[A\n",
      "(LR):  24%|█████████████████████████████▌                                                                                             | 1200/5000 [00:01<00:03, acc=0.401, best test F1Mi=0.401, F1Ma=0.294]\u001b[A\n",
      "(LR):  24%|██████████████████████████████                                                                                             | 1220/5000 [00:01<00:03, acc=0.401, best test F1Mi=0.401, F1Ma=0.294]\u001b[A\n",
      "(LR):  25%|██████████████████████████████▌                                                                                            | 1240/5000 [00:01<00:03, acc=0.401, best test F1Mi=0.401, F1Ma=0.294]\u001b[A\n",
      "(LR):  25%|██████████████████████████████▉                                                                                            | 1260/5000 [00:01<00:03, acc=0.404, best test F1Mi=0.404, F1Ma=0.297]\u001b[A\n",
      "(LR):  26%|███████████████████████████████▍                                                                                           | 1280/5000 [00:01<00:03, acc=0.404, best test F1Mi=0.404, F1Ma=0.297]\u001b[A\n",
      "(LR):  26%|███████████████████████████████▉                                                                                           | 1300/5000 [00:01<00:03, acc=0.404, best test F1Mi=0.404, F1Ma=0.297]\u001b[A\n",
      "(LR):  26%|███████████████████████████████▉                                                                                           | 1300/5000 [00:01<00:03, acc=0.404, best test F1Mi=0.404, F1Ma=0.297]\u001b[A\n"
     ]
    },
    {
     "name": "stderr",
     "output_type": "stream",
     "text": [
      "(LR):  26%|████████████████████████████████▍                                                                                          | 1320/5000 [00:01<00:03, acc=0.404, best test F1Mi=0.404, F1Ma=0.297]\u001b[A\n",
      "(LR):  27%|████████████████████████████████▉                                                                                          | 1340/5000 [00:01<00:03, acc=0.408, best test F1Mi=0.404, F1Ma=0.297]\u001b[A\n",
      "(LR):  27%|█████████████████████████████████▍                                                                                         | 1360/5000 [00:01<00:03, acc=0.412, best test F1Mi=0.404, F1Ma=0.297]\u001b[A\n",
      "(LR):  28%|█████████████████████████████████▉                                                                                         | 1380/5000 [00:01<00:03, acc=0.412, best test F1Mi=0.404, F1Ma=0.297]\u001b[A\n",
      "(LR):  28%|██████████████████████████████████▍                                                                                        | 1400/5000 [00:01<00:03, acc=0.412, best test F1Mi=0.412, F1Ma=0.309]\u001b[A\n",
      "(LR):  28%|██████████████████████████████████▉                                                                                        | 1420/5000 [00:01<00:03, acc=0.412, best test F1Mi=0.412, F1Ma=0.309]\u001b[A\n",
      "(LR):  28%|██████████████████████████████████▉                                                                                        | 1420/5000 [00:01<00:03, acc=0.412, best test F1Mi=0.412, F1Ma=0.309]\u001b[A\n",
      "(LR):  29%|███████████████████████████████████▍                                                                                       | 1440/5000 [00:01<00:03, acc=0.412, best test F1Mi=0.412, F1Ma=0.317]\u001b[A\n",
      "(LR):  29%|███████████████████████████████████▉                                                                                       | 1460/5000 [00:01<00:03, acc=0.412, best test F1Mi=0.412, F1Ma=0.317]\u001b[A\n",
      "(LR):  30%|████████████████████████████████████▍                                                                                      | 1480/5000 [00:01<00:03, acc=0.412, best test F1Mi=0.412, F1Ma=0.317]\u001b[A\n",
      "(LR):  30%|████████████████████████████████████▉                                                                                      | 1500/5000 [00:01<00:03, acc=0.412, best test F1Mi=0.412, F1Ma=0.317]\u001b[A\n",
      "(LR):  30%|█████████████████████████████████████▍                                                                                     | 1520/5000 [00:01<00:03, acc=0.412, best test F1Mi=0.412, F1Ma=0.317]\u001b[A\n",
      "(LR):  31%|█████████████████████████████████████▉                                                                                     | 1540/5000 [00:01<00:03, acc=0.412, best test F1Mi=0.412, F1Ma=0.317]\u001b[A\n",
      "(LR):  31%|██████████████████████████████████████▍                                                                                    | 1560/5000 [00:01<00:02, acc=0.412, best test F1Mi=0.412, F1Ma=0.317]\u001b[A\n",
      "(LR):  31%|██████████████████████████████████████▍                                                                                    | 1560/5000 [00:01<00:02, acc=0.412, best test F1Mi=0.412, F1Ma=0.317]\u001b[A\n",
      "(LR):  32%|██████████████████████████████████████▊                                                                                    | 1580/5000 [00:01<00:02, acc=0.415, best test F1Mi=0.412, F1Ma=0.317]\u001b[A\n",
      "(LR):  32%|███████████████████████████████████████▎                                                                                   | 1600/5000 [00:01<00:02, acc=0.415, best test F1Mi=0.415, F1Ma=0.327]\u001b[A\n",
      "(LR):  32%|███████████████████████████████████████▊                                                                                   | 1620/5000 [00:01<00:02, acc=0.415, best test F1Mi=0.415, F1Ma=0.327]\u001b[A\n",
      "(LR):  33%|████████████████████████████████████████▎                                                                                  | 1640/5000 [00:01<00:02, acc=0.419, best test F1Mi=0.419, F1Ma=0.329]\u001b[A\n",
      "(LR):  33%|████████████████████████████████████████▊                                                                                  | 1660/5000 [00:01<00:02, acc=0.423, best test F1Mi=0.423, F1Ma=0.332]\u001b[A\n",
      "(LR):  34%|█████████████████████████████████████████▎                                                                                 | 1680/5000 [00:01<00:02, acc=0.423, best test F1Mi=0.423, F1Ma=0.332]\u001b[A\n",
      "(LR):  34%|█████████████████████████████████████████▊                                                                                 | 1700/5000 [00:01<00:02, acc=0.423, best test F1Mi=0.423, F1Ma=0.332]\u001b[A\n",
      "(LR):  34%|█████████████████████████████████████████▊                                                                                 | 1700/5000 [00:01<00:02, acc=0.423, best test F1Mi=0.423, F1Ma=0.332]\u001b[A\n",
      "(LR):  34%|██████████████████████████████████████████▎                                                                                | 1720/5000 [00:01<00:02, acc=0.423, best test F1Mi=0.423, F1Ma=0.332]\u001b[A\n",
      "(LR):  35%|██████████████████████████████████████████▊                                                                                | 1740/5000 [00:01<00:02, acc=0.423, best test F1Mi=0.423, F1Ma=0.335]\u001b[A\n",
      "(LR):  35%|███████████████████████████████████████████▎                                                                               | 1760/5000 [00:01<00:02, acc=0.423, best test F1Mi=0.423, F1Ma=0.335]\u001b[A\n",
      "(LR):  36%|███████████████████████████████████████████▊                                                                               | 1780/5000 [00:01<00:02, acc=0.423, best test F1Mi=0.423, F1Ma=0.335]\u001b[A\n",
      "(LR):  36%|████████████████████████████████████████████▎                                                                              | 1800/5000 [00:01<00:02, acc=0.426, best test F1Mi=0.426, F1Ma=0.339]\u001b[A\n",
      "(LR):  36%|████████████████████████████████████████████▊                                                                              | 1820/5000 [00:01<00:02, acc=0.426, best test F1Mi=0.426, F1Ma=0.339]\u001b[A\n",
      "(LR):  36%|████████████████████████████████████████████▊                                                                              | 1820/5000 [00:01<00:02, acc=0.426, best test F1Mi=0.426, F1Ma=0.339]\u001b[A\n",
      "(LR):  37%|█████████████████████████████████████████████▎                                                                             | 1840/5000 [00:01<00:02, acc=0.426, best test F1Mi=0.426, F1Ma=0.339]\u001b[A\n",
      "(LR):  37%|█████████████████████████████████████████████▊                                                                             | 1860/5000 [00:01<00:02, acc=0.426, best test F1Mi=0.426, F1Ma=0.339]\u001b[A\n",
      "(LR):  38%|██████████████████████████████████████████████▏                                                                            | 1880/5000 [00:01<00:02, acc=0.426, best test F1Mi=0.426, F1Ma=0.339]\u001b[A\n",
      "(LR):  38%|██████████████████████████████████████████████▋                                                                            | 1900/5000 [00:01<00:02, acc=0.426, best test F1Mi=0.426, F1Ma=0.339]\u001b[A\n",
      "(LR):  38%|███████████████████████████████████████████████▏                                                                           | 1920/5000 [00:01<00:02, acc=0.426, best test F1Mi=0.426, F1Ma=0.339]\u001b[A\n",
      "(LR):  39%|████████████████████████████████████████████████▌                                                                            | 1940/5000 [00:01<00:02, acc=0.43, best test F1Mi=0.43, F1Ma=0.341]\u001b[A\n",
      "(LR):  39%|█████████████████████████████████████████████████                                                                            | 1960/5000 [00:01<00:02, acc=0.43, best test F1Mi=0.43, F1Ma=0.341]\u001b[A\n",
      "(LR):  39%|█████████████████████████████████████████████████                                                                            | 1960/5000 [00:01<00:02, acc=0.43, best test F1Mi=0.43, F1Ma=0.341]\u001b[A\n",
      "(LR):  40%|█████████████████████████████████████████████████▌                                                                           | 1980/5000 [00:01<00:02, acc=0.43, best test F1Mi=0.43, F1Ma=0.341]\u001b[A\n"
     ]
    },
    {
     "name": "stderr",
     "output_type": "stream",
     "text": [
      "(LR):  40%|██████████████████████████████████████████████████                                                                           | 2000/5000 [00:01<00:02, acc=0.43, best test F1Mi=0.43, F1Ma=0.341]\u001b[A\n",
      "(LR):  40%|██████████████████████████████████████████████████▌                                                                          | 2020/5000 [00:01<00:02, acc=0.43, best test F1Mi=0.43, F1Ma=0.341]\u001b[A\n",
      "(LR):  41%|███████████████████████████████████████████████████                                                                          | 2040/5000 [00:01<00:02, acc=0.43, best test F1Mi=0.43, F1Ma=0.341]\u001b[A\n",
      "(LR):  41%|███████████████████████████████████████████████████▌                                                                         | 2060/5000 [00:01<00:02, acc=0.43, best test F1Mi=0.43, F1Ma=0.341]\u001b[A\n",
      "(LR):  42%|████████████████████████████████████████████████████                                                                         | 2080/5000 [00:01<00:02, acc=0.43, best test F1Mi=0.43, F1Ma=0.341]\u001b[A\n",
      "(LR):  42%|████████████████████████████████████████████████████▌                                                                        | 2100/5000 [00:01<00:02, acc=0.43, best test F1Mi=0.43, F1Ma=0.341]\u001b[A\n",
      "(LR):  42%|████████████████████████████████████████████████████▌                                                                        | 2100/5000 [00:01<00:02, acc=0.43, best test F1Mi=0.43, F1Ma=0.341]\u001b[A\n",
      "(LR):  42%|█████████████████████████████████████████████████████                                                                        | 2120/5000 [00:01<00:02, acc=0.43, best test F1Mi=0.43, F1Ma=0.341]\u001b[A\n",
      "(LR):  43%|█████████████████████████████████████████████████████                                                                       | 2140/5000 [00:01<00:02, acc=0.434, best test F1Mi=0.43, F1Ma=0.341]\u001b[A\n",
      "(LR):  43%|█████████████████████████████████████████████████████▌                                                                      | 2160/5000 [00:01<00:02, acc=0.438, best test F1Mi=0.43, F1Ma=0.341]\u001b[A\n",
      "(LR):  44%|██████████████████████████████████████████████████████                                                                      | 2180/5000 [00:01<00:02, acc=0.438, best test F1Mi=0.43, F1Ma=0.341]\u001b[A\n",
      "(LR):  44%|██████████████████████████████████████████████████████                                                                     | 2200/5000 [00:01<00:02, acc=0.438, best test F1Mi=0.438, F1Ma=0.358]\u001b[A\n",
      "(LR):  44%|██████████████████████████████████████████████████████▌                                                                    | 2220/5000 [00:01<00:02, acc=0.445, best test F1Mi=0.438, F1Ma=0.358]\u001b[A\n",
      "(LR):  45%|███████████████████████████████████████████████████████                                                                    | 2240/5000 [00:01<00:02, acc=0.445, best test F1Mi=0.438, F1Ma=0.358]\u001b[A\n",
      "(LR):  45%|███████████████████████████████████████████████████████                                                                    | 2240/5000 [00:01<00:02, acc=0.445, best test F1Mi=0.445, F1Ma=0.374]\u001b[A\n",
      "(LR):  45%|███████████████████████████████████████████████████████▌                                                                   | 2260/5000 [00:01<00:02, acc=0.445, best test F1Mi=0.445, F1Ma=0.374]\u001b[A\n",
      "(LR):  46%|████████████████████████████████████████████████████████                                                                   | 2280/5000 [00:01<00:02, acc=0.445, best test F1Mi=0.445, F1Ma=0.374]\u001b[A\n",
      "(LR):  46%|████████████████████████████████████████████████████████▌                                                                  | 2300/5000 [00:01<00:02, acc=0.445, best test F1Mi=0.445, F1Ma=0.374]\u001b[A\n",
      "(LR):  46%|█████████████████████████████████████████████████████████                                                                  | 2320/5000 [00:02<00:02, acc=0.445, best test F1Mi=0.445, F1Ma=0.374]\u001b[A\n",
      "(LR):  47%|█████████████████████████████████████████████████████████▌                                                                 | 2340/5000 [00:02<00:02, acc=0.445, best test F1Mi=0.445, F1Ma=0.374]\u001b[A\n",
      "(LR):  47%|██████████████████████████████████████████████████████████                                                                 | 2360/5000 [00:02<00:02, acc=0.445, best test F1Mi=0.445, F1Ma=0.374]\u001b[A\n",
      "(LR):  47%|██████████████████████████████████████████████████████████                                                                 | 2360/5000 [00:02<00:02, acc=0.445, best test F1Mi=0.445, F1Ma=0.374]\u001b[A\n",
      "(LR):  48%|██████████████████████████████████████████████████████████▌                                                                | 2380/5000 [00:02<00:02, acc=0.445, best test F1Mi=0.445, F1Ma=0.374]\u001b[A\n",
      "(LR):  48%|███████████████████████████████████████████████████████████                                                                | 2400/5000 [00:02<00:02, acc=0.445, best test F1Mi=0.445, F1Ma=0.374]\u001b[A\n",
      "(LR):  48%|███████████████████████████████████████████████████████████▌                                                               | 2420/5000 [00:02<00:02, acc=0.445, best test F1Mi=0.445, F1Ma=0.373]\u001b[A\n",
      "(LR):  49%|████████████████████████████████████████████████████████████                                                               | 2440/5000 [00:02<00:02, acc=0.445, best test F1Mi=0.445, F1Ma=0.373]\u001b[A\n",
      "(LR):  49%|████████████████████████████████████████████████████████████▌                                                              | 2460/5000 [00:02<00:02, acc=0.445, best test F1Mi=0.445, F1Ma=0.373]\u001b[A\n",
      "(LR):  50%|█████████████████████████████████████████████████████████████                                                              | 2480/5000 [00:02<00:02, acc=0.445, best test F1Mi=0.445, F1Ma=0.373]\u001b[A\n",
      "(LR):  50%|█████████████████████████████████████████████████████████████                                                              | 2480/5000 [00:02<00:02, acc=0.445, best test F1Mi=0.445, F1Ma=0.373]\u001b[A\n",
      "(LR):  50%|█████████████████████████████████████████████████████████████▌                                                             | 2500/5000 [00:02<00:02, acc=0.445, best test F1Mi=0.445, F1Ma=0.374]\u001b[A\n",
      "(LR):  50%|█████████████████████████████████████████████████████████████▉                                                             | 2520/5000 [00:02<00:02, acc=0.445, best test F1Mi=0.445, F1Ma=0.374]\u001b[A\n",
      "(LR):  51%|██████████████████████████████████████████████████████████████▍                                                            | 2540/5000 [00:02<00:02, acc=0.445, best test F1Mi=0.445, F1Ma=0.374]\u001b[A\n",
      "(LR):  51%|██████████████████████████████████████████████████████████████▉                                                            | 2560/5000 [00:02<00:02, acc=0.445, best test F1Mi=0.445, F1Ma=0.374]\u001b[A\n",
      "(LR):  52%|███████████████████████████████████████████████████████████████▍                                                           | 2580/5000 [00:02<00:02, acc=0.445, best test F1Mi=0.445, F1Ma=0.374]\u001b[A\n",
      "(LR):  52%|███████████████████████████████████████████████████████████████▉                                                           | 2600/5000 [00:02<00:02, acc=0.445, best test F1Mi=0.445, F1Ma=0.374]\u001b[A\n",
      "(LR):  52%|████████████████████████████████████████████████████████████████▍                                                          | 2620/5000 [00:02<00:01, acc=0.445, best test F1Mi=0.445, F1Ma=0.374]\u001b[A\n",
      "(LR):  52%|████████████████████████████████████████████████████████████████▍                                                          | 2620/5000 [00:02<00:01, acc=0.445, best test F1Mi=0.445, F1Ma=0.374]\u001b[A\n",
      "(LR):  53%|████████████████████████████████████████████████████████████████▉                                                          | 2640/5000 [00:02<00:01, acc=0.445, best test F1Mi=0.445, F1Ma=0.374]\u001b[A\n",
      "(LR):  53%|█████████████████████████████████████████████████████████████████▍                                                         | 2660/5000 [00:02<00:01, acc=0.445, best test F1Mi=0.445, F1Ma=0.374]\u001b[A\n"
     ]
    },
    {
     "name": "stderr",
     "output_type": "stream",
     "text": [
      "(LR):  54%|█████████████████████████████████████████████████████████████████▉                                                         | 2680/5000 [00:02<00:01, acc=0.445, best test F1Mi=0.445, F1Ma=0.374]\u001b[A\n",
      "(LR):  54%|██████████████████████████████████████████████████████████████████▍                                                        | 2700/5000 [00:02<00:01, acc=0.445, best test F1Mi=0.445, F1Ma=0.374]\u001b[A\n",
      "(LR):  54%|██████████████████████████████████████████████████████████████████▉                                                        | 2720/5000 [00:02<00:01, acc=0.445, best test F1Mi=0.445, F1Ma=0.373]\u001b[A\n",
      "(LR):  55%|███████████████████████████████████████████████████████████████████▍                                                       | 2740/5000 [00:02<00:01, acc=0.445, best test F1Mi=0.445, F1Ma=0.373]\u001b[A\n",
      "(LR):  55%|███████████████████████████████████████████████████████████████████▉                                                       | 2760/5000 [00:02<00:01, acc=0.445, best test F1Mi=0.445, F1Ma=0.373]\u001b[A\n",
      "(LR):  55%|███████████████████████████████████████████████████████████████████▉                                                       | 2760/5000 [00:02<00:01, acc=0.449, best test F1Mi=0.445, F1Ma=0.373]\u001b[A\n",
      "(LR):  56%|████████████████████████████████████████████████████████████████████▍                                                      | 2780/5000 [00:02<00:01, acc=0.452, best test F1Mi=0.445, F1Ma=0.373]\u001b[A\n",
      "(LR):  56%|████████████████████████████████████████████████████████████████████▉                                                      | 2800/5000 [00:02<00:01, acc=0.452, best test F1Mi=0.445, F1Ma=0.373]\u001b[A\n",
      "(LR):  56%|█████████████████████████████████████████████████████████████████████▎                                                     | 2820/5000 [00:02<00:01, acc=0.452, best test F1Mi=0.452, F1Ma=0.386]\u001b[A\n",
      "(LR):  57%|█████████████████████████████████████████████████████████████████████▊                                                     | 2840/5000 [00:02<00:01, acc=0.452, best test F1Mi=0.452, F1Ma=0.386]\u001b[A\n",
      "(LR):  57%|██████████████████████████████████████████████████████████████████████▎                                                    | 2860/5000 [00:02<00:01, acc=0.452, best test F1Mi=0.452, F1Ma=0.386]\u001b[A\n",
      "(LR):  58%|██████████████████████████████████████████████████████████████████████▊                                                    | 2880/5000 [00:02<00:01, acc=0.452, best test F1Mi=0.452, F1Ma=0.386]\u001b[A\n",
      "(LR):  58%|███████████████████████████████████████████████████████████████████████▎                                                   | 2900/5000 [00:02<00:01, acc=0.452, best test F1Mi=0.452, F1Ma=0.386]\u001b[A\n",
      "(LR):  58%|███████████████████████████████████████████████████████████████████████▎                                                   | 2900/5000 [00:02<00:01, acc=0.452, best test F1Mi=0.452, F1Ma=0.386]\u001b[A\n",
      "(LR):  58%|███████████████████████████████████████████████████████████████████████▊                                                   | 2920/5000 [00:02<00:01, acc=0.452, best test F1Mi=0.452, F1Ma=0.386]\u001b[A\n",
      "(LR):  59%|████████████████████████████████████████████████████████████████████████▎                                                  | 2940/5000 [00:02<00:01, acc=0.449, best test F1Mi=0.449, F1Ma=0.381]\u001b[A\n",
      "(LR):  59%|████████████████████████████████████████████████████████████████████████▊                                                  | 2960/5000 [00:02<00:01, acc=0.449, best test F1Mi=0.449, F1Ma=0.381]\u001b[A\n",
      "(LR):  60%|█████████████████████████████████████████████████████████████████████████▎                                                 | 2980/5000 [00:02<00:01, acc=0.449, best test F1Mi=0.449, F1Ma=0.381]\u001b[A\n",
      "(LR):  60%|█████████████████████████████████████████████████████████████████████████▊                                                 | 3000/5000 [00:02<00:01, acc=0.449, best test F1Mi=0.449, F1Ma=0.381]\u001b[A\n",
      "(LR):  60%|██████████████████████████████████████████████████████████████████████████▎                                                | 3020/5000 [00:02<00:01, acc=0.449, best test F1Mi=0.449, F1Ma=0.381]\u001b[A\n",
      "(LR):  61%|██████████████████████████████████████████████████████████████████████████▊                                                | 3040/5000 [00:02<00:01, acc=0.449, best test F1Mi=0.449, F1Ma=0.381]\u001b[A\n",
      "(LR):  61%|██████████████████████████████████████████████████████████████████████████▊                                                | 3040/5000 [00:02<00:01, acc=0.449, best test F1Mi=0.449, F1Ma=0.381]\u001b[A\n",
      "(LR):  61%|███████████████████████████████████████████████████████████████████████████▎                                               | 3060/5000 [00:02<00:01, acc=0.449, best test F1Mi=0.449, F1Ma=0.381]\u001b[A\n",
      "(LR):  62%|███████████████████████████████████████████████████████████████████████████▊                                               | 3080/5000 [00:02<00:01, acc=0.449, best test F1Mi=0.449, F1Ma=0.381]\u001b[A\n",
      "(LR):  62%|████████████████████████████████████████████████████████████████████████████▉                                               | 3100/5000 [00:02<00:01, acc=0.445, best test F1Mi=0.445, F1Ma=0.38]\u001b[A\n",
      "(LR):  62%|█████████████████████████████████████████████████████████████████████████████▍                                              | 3120/5000 [00:02<00:01, acc=0.445, best test F1Mi=0.445, F1Ma=0.38]\u001b[A\n",
      "(LR):  63%|█████████████████████████████████████████████████████████████████████████████▊                                              | 3140/5000 [00:02<00:01, acc=0.445, best test F1Mi=0.445, F1Ma=0.38]\u001b[A\n",
      "(LR):  63%|██████████████████████████████████████████████████████████████████████████████▎                                             | 3160/5000 [00:02<00:01, acc=0.445, best test F1Mi=0.445, F1Ma=0.38]\u001b[A\n",
      "(LR):  64%|██████████████████████████████████████████████████████████████████████████████▊                                             | 3180/5000 [00:02<00:01, acc=0.445, best test F1Mi=0.445, F1Ma=0.38]\u001b[A\n",
      "(LR):  64%|██████████████████████████████████████████████████████████████████████████████▊                                             | 3180/5000 [00:02<00:01, acc=0.445, best test F1Mi=0.445, F1Ma=0.38]\u001b[A\n",
      "(LR):  64%|██████████████████████████████████████████████████████████████████████████████▋                                            | 3200/5000 [00:02<00:01, acc=0.449, best test F1Mi=0.449, F1Ma=0.385]\u001b[A\n",
      "(LR):  64%|███████████████████████████████████████████████████████████████████████████████▏                                           | 3220/5000 [00:02<00:01, acc=0.449, best test F1Mi=0.449, F1Ma=0.385]\u001b[A\n",
      "(LR):  65%|███████████████████████████████████████████████████████████████████████████████▋                                           | 3240/5000 [00:02<00:01, acc=0.449, best test F1Mi=0.449, F1Ma=0.385]\u001b[A\n",
      "(LR):  65%|████████████████████████████████████████████████████████████████████████████████▏                                          | 3260/5000 [00:02<00:01, acc=0.445, best test F1Mi=0.449, F1Ma=0.385]\u001b[A\n",
      "(LR):  66%|████████████████████████████████████████████████████████████████████████████████▋                                          | 3280/5000 [00:02<00:01, acc=0.445, best test F1Mi=0.449, F1Ma=0.385]\u001b[A\n",
      "(LR):  66%|█████████████████████████████████████████████████████████████████████████████████▏                                         | 3300/5000 [00:02<00:01, acc=0.445, best test F1Mi=0.445, F1Ma=0.383]\u001b[A\n",
      "(LR):  66%|█████████████████████████████████████████████████████████████████████████████████▋                                         | 3320/5000 [00:02<00:01, acc=0.445, best test F1Mi=0.445, F1Ma=0.383]\u001b[A\n",
      "(LR):  66%|█████████████████████████████████████████████████████████████████████████████████▋                                         | 3320/5000 [00:02<00:01, acc=0.445, best test F1Mi=0.445, F1Ma=0.383]\u001b[A\n",
      "(LR):  67%|██████████████████████████████████████████████████████████████████████████████████▏                                        | 3340/5000 [00:02<00:01, acc=0.445, best test F1Mi=0.445, F1Ma=0.383]\u001b[A\n"
     ]
    },
    {
     "name": "stderr",
     "output_type": "stream",
     "text": [
      "(LR):  67%|██████████████████████████████████████████████████████████████████████████████████▋                                        | 3360/5000 [00:02<00:01, acc=0.445, best test F1Mi=0.445, F1Ma=0.383]\u001b[A\n",
      "(LR):  68%|███████████████████████████████████████████████████████████████████████████████████▏                                       | 3380/5000 [00:02<00:01, acc=0.445, best test F1Mi=0.445, F1Ma=0.383]\u001b[A\n",
      "(LR):  68%|███████████████████████████████████████████████████████████████████████████████████▋                                       | 3400/5000 [00:02<00:01, acc=0.445, best test F1Mi=0.445, F1Ma=0.383]\u001b[A\n",
      "(LR):  68%|████████████████████████████████████████████████████████████████████████████████████▏                                      | 3420/5000 [00:02<00:01, acc=0.445, best test F1Mi=0.445, F1Ma=0.383]\u001b[A\n",
      "(LR):  69%|████████████████████████████████████████████████████████████████████████████████████▌                                      | 3440/5000 [00:02<00:01, acc=0.445, best test F1Mi=0.445, F1Ma=0.383]\u001b[A\n",
      "(LR):  69%|█████████████████████████████████████████████████████████████████████████████████████                                      | 3460/5000 [00:02<00:01, acc=0.445, best test F1Mi=0.445, F1Ma=0.383]\u001b[A\n",
      "(LR):  69%|█████████████████████████████████████████████████████████████████████████████████████                                      | 3460/5000 [00:02<00:01, acc=0.445, best test F1Mi=0.445, F1Ma=0.383]\u001b[A\n",
      "(LR):  70%|█████████████████████████████████████████████████████████████████████████████████████▌                                     | 3480/5000 [00:02<00:01, acc=0.449, best test F1Mi=0.449, F1Ma=0.384]\u001b[A\n",
      "(LR):  70%|██████████████████████████████████████████████████████████████████████████████████████                                     | 3500/5000 [00:02<00:01, acc=0.452, best test F1Mi=0.449, F1Ma=0.384]\u001b[A\n",
      "(LR):  70%|██████████████████████████████████████████████████████████████████████████████████████▌                                    | 3520/5000 [00:03<00:01, acc=0.452, best test F1Mi=0.449, F1Ma=0.384]\u001b[A\n",
      "(LR):  71%|███████████████████████████████████████████████████████████████████████████████████████                                    | 3540/5000 [00:03<00:01, acc=0.452, best test F1Mi=0.449, F1Ma=0.384]\u001b[A\n",
      "(LR):  71%|███████████████████████████████████████████████████████████████████████████████████████▌                                   | 3560/5000 [00:03<00:01, acc=0.452, best test F1Mi=0.449, F1Ma=0.384]\u001b[A\n",
      "(LR):  72%|████████████████████████████████████████████████████████████████████████████████████████                                   | 3580/5000 [00:03<00:01, acc=0.452, best test F1Mi=0.452, F1Ma=0.389]\u001b[A\n",
      "(LR):  72%|████████████████████████████████████████████████████████████████████████████████████████▌                                  | 3600/5000 [00:03<00:01, acc=0.452, best test F1Mi=0.452, F1Ma=0.389]\u001b[A\n",
      "(LR):  72%|████████████████████████████████████████████████████████████████████████████████████████▌                                  | 3600/5000 [00:03<00:01, acc=0.449, best test F1Mi=0.452, F1Ma=0.389]\u001b[A\n",
      "(LR):  72%|█████████████████████████████████████████████████████████████████████████████████████████                                  | 3620/5000 [00:03<00:01, acc=0.449, best test F1Mi=0.449, F1Ma=0.386]\u001b[A\n",
      "(LR):  73%|█████████████████████████████████████████████████████████████████████████████████████████▌                                 | 3640/5000 [00:03<00:01, acc=0.449, best test F1Mi=0.449, F1Ma=0.386]\u001b[A\n",
      "(LR):  73%|██████████████████████████████████████████████████████████████████████████████████████████                                 | 3660/5000 [00:03<00:01, acc=0.449, best test F1Mi=0.449, F1Ma=0.386]\u001b[A\n",
      "(LR):  74%|██████████████████████████████████████████████████████████████████████████████████████████▌                                | 3680/5000 [00:03<00:01, acc=0.449, best test F1Mi=0.449, F1Ma=0.386]\u001b[A\n",
      "(LR):  74%|███████████████████████████████████████████████████████████████████████████████████████████                                | 3700/5000 [00:03<00:01, acc=0.452, best test F1Mi=0.452, F1Ma=0.394]\u001b[A\n",
      "(LR):  74%|███████████████████████████████████████████████████████████████████████████████████████████▌                               | 3720/5000 [00:03<00:01, acc=0.452, best test F1Mi=0.452, F1Ma=0.394]\u001b[A\n",
      "(LR):  75%|████████████████████████████████████████████████████████████████████████████████████████████                               | 3740/5000 [00:03<00:01, acc=0.452, best test F1Mi=0.452, F1Ma=0.394]\u001b[A\n",
      "(LR):  75%|████████████████████████████████████████████████████████████████████████████████████████████                               | 3740/5000 [00:03<00:01, acc=0.452, best test F1Mi=0.452, F1Ma=0.394]\u001b[A\n",
      "(LR):  75%|████████████████████████████████████████████████████████████████████████████████████████████▍                              | 3760/5000 [00:03<00:01, acc=0.452, best test F1Mi=0.452, F1Ma=0.394]\u001b[A\n",
      "(LR):  76%|████████████████████████████████████████████████████████████████████████████████████████████▉                              | 3780/5000 [00:03<00:01, acc=0.452, best test F1Mi=0.452, F1Ma=0.394]\u001b[A\n",
      "(LR):  76%|█████████████████████████████████████████████████████████████████████████████████████████████▍                             | 3800/5000 [00:03<00:00, acc=0.452, best test F1Mi=0.452, F1Ma=0.394]\u001b[A\n",
      "(LR):  76%|█████████████████████████████████████████████████████████████████████████████████████████████▉                             | 3820/5000 [00:03<00:00, acc=0.452, best test F1Mi=0.452, F1Ma=0.394]\u001b[A\n",
      "(LR):  77%|██████████████████████████████████████████████████████████████████████████████████████████████▍                            | 3840/5000 [00:03<00:00, acc=0.452, best test F1Mi=0.452, F1Ma=0.395]\u001b[A\n",
      "(LR):  77%|██████████████████████████████████████████████████████████████████████████████████████████████▉                            | 3860/5000 [00:03<00:00, acc=0.452, best test F1Mi=0.452, F1Ma=0.402]\u001b[A\n",
      "(LR):  78%|███████████████████████████████████████████████████████████████████████████████████████████████▍                           | 3880/5000 [00:03<00:00, acc=0.452, best test F1Mi=0.452, F1Ma=0.402]\u001b[A\n",
      "(LR):  78%|███████████████████████████████████████████████████████████████████████████████████████████████▍                           | 3880/5000 [00:03<00:00, acc=0.456, best test F1Mi=0.452, F1Ma=0.402]\u001b[A\n",
      "(LR):  78%|███████████████████████████████████████████████████████████████████████████████████████████████▉                           | 3900/5000 [00:03<00:00, acc=0.456, best test F1Mi=0.456, F1Ma=0.405]\u001b[A\n",
      "(LR):  78%|████████████████████████████████████████████████████████████████████████████████████████████████▍                          | 3920/5000 [00:03<00:00, acc=0.463, best test F1Mi=0.463, F1Ma=0.415]\u001b[A\n",
      "(LR):  79%|████████████████████████████████████████████████████████████████████████████████████████████████▉                          | 3940/5000 [00:03<00:00, acc=0.463, best test F1Mi=0.463, F1Ma=0.415]\u001b[A\n",
      "(LR):  79%|█████████████████████████████████████████████████████████████████████████████████████████████████▍                         | 3960/5000 [00:03<00:00, acc=0.467, best test F1Mi=0.463, F1Ma=0.415]\u001b[A\n",
      "(LR):  80%|█████████████████████████████████████████████████████████████████████████████████████████████████▉                         | 3980/5000 [00:03<00:00, acc=0.471, best test F1Mi=0.463, F1Ma=0.415]\u001b[A\n",
      "(LR):  80%|██████████████████████████████████████████████████████████████████████████████████████████████████▍                        | 4000/5000 [00:03<00:00, acc=0.471, best test F1Mi=0.463, F1Ma=0.415]\u001b[A\n",
      "(LR):  80%|██████████████████████████████████████████████████████████████████████████████████████████████████▉                        | 4020/5000 [00:03<00:00, acc=0.471, best test F1Mi=0.463, F1Ma=0.415]\u001b[A\n",
      "(LR):  80%|██████████████████████████████████████████████████████████████████████████████████████████████████▉                        | 4020/5000 [00:03<00:00, acc=0.474, best test F1Mi=0.474, F1Ma=0.425]\u001b[A\n"
     ]
    },
    {
     "name": "stderr",
     "output_type": "stream",
     "text": [
      "(LR):  81%|███████████████████████████████████████████████████████████████████████████████████████████████████▍                       | 4040/5000 [00:03<00:00, acc=0.474, best test F1Mi=0.474, F1Ma=0.425]\u001b[A\n",
      "(LR):  81%|███████████████████████████████████████████████████████████████████████████████████████████████████▉                       | 4060/5000 [00:03<00:00, acc=0.474, best test F1Mi=0.474, F1Ma=0.425]\u001b[A\n",
      "(LR):  82%|████████████████████████████████████████████████████████████████████████████████████████████████████▎                      | 4080/5000 [00:03<00:00, acc=0.474, best test F1Mi=0.474, F1Ma=0.425]\u001b[A\n",
      "(LR):  82%|████████████████████████████████████████████████████████████████████████████████████████████████████▊                      | 4100/5000 [00:03<00:00, acc=0.474, best test F1Mi=0.474, F1Ma=0.425]\u001b[A\n",
      "(LR):  82%|█████████████████████████████████████████████████████████████████████████████████████████████████████▎                     | 4120/5000 [00:03<00:00, acc=0.474, best test F1Mi=0.474, F1Ma=0.425]\u001b[A\n",
      "(LR):  83%|█████████████████████████████████████████████████████████████████████████████████████████████████████▊                     | 4140/5000 [00:03<00:00, acc=0.474, best test F1Mi=0.474, F1Ma=0.425]\u001b[A\n",
      "(LR):  83%|██████████████████████████████████████████████████████████████████████████████████████████████████████▎                    | 4160/5000 [00:03<00:00, acc=0.474, best test F1Mi=0.474, F1Ma=0.425]\u001b[A\n",
      "(LR):  83%|██████████████████████████████████████████████████████████████████████████████████████████████████████▎                    | 4160/5000 [00:03<00:00, acc=0.474, best test F1Mi=0.474, F1Ma=0.425]\u001b[A\n",
      "(LR):  84%|██████████████████████████████████████████████████████████████████████████████████████████████████████▊                    | 4180/5000 [00:03<00:00, acc=0.474, best test F1Mi=0.474, F1Ma=0.425]\u001b[A\n",
      "(LR):  84%|███████████████████████████████████████████████████████████████████████████████████████████████████████▎                   | 4200/5000 [00:03<00:00, acc=0.474, best test F1Mi=0.474, F1Ma=0.425]\u001b[A\n",
      "(LR):  84%|███████████████████████████████████████████████████████████████████████████████████████████████████████▊                   | 4220/5000 [00:03<00:00, acc=0.474, best test F1Mi=0.474, F1Ma=0.425]\u001b[A\n",
      "(LR):  85%|████████████████████████████████████████████████████████████████████████████████████████████████████████▎                  | 4240/5000 [00:03<00:00, acc=0.474, best test F1Mi=0.474, F1Ma=0.425]\u001b[A\n",
      "(LR):  85%|████████████████████████████████████████████████████████████████████████████████████████████████████████▊                  | 4260/5000 [00:03<00:00, acc=0.474, best test F1Mi=0.474, F1Ma=0.425]\u001b[A\n",
      "(LR):  86%|█████████████████████████████████████████████████████████████████████████████████████████████████████████▎                 | 4280/5000 [00:03<00:00, acc=0.474, best test F1Mi=0.474, F1Ma=0.425]\u001b[A\n",
      "(LR):  86%|█████████████████████████████████████████████████████████████████████████████████████████████████████████▎                 | 4280/5000 [00:03<00:00, acc=0.474, best test F1Mi=0.474, F1Ma=0.425]\u001b[A\n",
      "(LR):  86%|█████████████████████████████████████████████████████████████████████████████████████████████████████████▊                 | 4300/5000 [00:03<00:00, acc=0.474, best test F1Mi=0.474, F1Ma=0.425]\u001b[A\n",
      "(LR):  86%|██████████████████████████████████████████████████████████████████████████████████████████████████████████▎                | 4320/5000 [00:03<00:00, acc=0.474, best test F1Mi=0.474, F1Ma=0.425]\u001b[A\n",
      "(LR):  87%|██████████████████████████████████████████████████████████████████████████████████████████████████████████▊                | 4340/5000 [00:03<00:00, acc=0.474, best test F1Mi=0.474, F1Ma=0.424]\u001b[A\n",
      "(LR):  87%|███████████████████████████████████████████████████████████████████████████████████████████████████████████▎               | 4360/5000 [00:03<00:00, acc=0.474, best test F1Mi=0.474, F1Ma=0.424]\u001b[A\n",
      "(LR):  88%|███████████████████████████████████████████████████████████████████████████████████████████████████████████▋               | 4380/5000 [00:03<00:00, acc=0.474, best test F1Mi=0.474, F1Ma=0.424]\u001b[A\n",
      "(LR):  88%|████████████████████████████████████████████████████████████████████████████████████████████████████████████▏              | 4400/5000 [00:03<00:00, acc=0.474, best test F1Mi=0.474, F1Ma=0.424]\u001b[A\n",
      "(LR):  88%|████████████████████████████████████████████████████████████████████████████████████████████████████████████▏              | 4400/5000 [00:03<00:00, acc=0.474, best test F1Mi=0.474, F1Ma=0.424]\u001b[A\n",
      "(LR):  88%|████████████████████████████████████████████████████████████████████████████████████████████████████████████▋              | 4420/5000 [00:03<00:00, acc=0.474, best test F1Mi=0.474, F1Ma=0.424]\u001b[A\n",
      "(LR):  89%|█████████████████████████████████████████████████████████████████████████████████████████████████████████████▏             | 4440/5000 [00:03<00:00, acc=0.471, best test F1Mi=0.474, F1Ma=0.424]\u001b[A\n",
      "(LR):  89%|█████████████████████████████████████████████████████████████████████████████████████████████████████████████▋             | 4460/5000 [00:03<00:00, acc=0.471, best test F1Mi=0.474, F1Ma=0.424]\u001b[A\n",
      "(LR):  90%|██████████████████████████████████████████████████████████████████████████████████████████████████████████████▏            | 4480/5000 [00:03<00:00, acc=0.471, best test F1Mi=0.471, F1Ma=0.422]\u001b[A\n",
      "(LR):  90%|██████████████████████████████████████████████████████████████████████████████████████████████████████████████▋            | 4500/5000 [00:03<00:00, acc=0.471, best test F1Mi=0.471, F1Ma=0.422]\u001b[A\n",
      "(LR):  90%|███████████████████████████████████████████████████████████████████████████████████████████████████████████████▏           | 4520/5000 [00:03<00:00, acc=0.471, best test F1Mi=0.471, F1Ma=0.422]\u001b[A\n",
      "(LR):  90%|███████████████████████████████████████████████████████████████████████████████████████████████████████████████▏           | 4520/5000 [00:03<00:00, acc=0.471, best test F1Mi=0.471, F1Ma=0.421]\u001b[A\n",
      "(LR):  91%|███████████████████████████████████████████████████████████████████████████████████████████████████████████████▋           | 4540/5000 [00:03<00:00, acc=0.471, best test F1Mi=0.471, F1Ma=0.421]\u001b[A\n",
      "(LR):  91%|████████████████████████████████████████████████████████████████████████████████████████████████████████████████▏          | 4560/5000 [00:03<00:00, acc=0.471, best test F1Mi=0.471, F1Ma=0.421]\u001b[A\n",
      "(LR):  92%|████████████████████████████████████████████████████████████████████████████████████████████████████████████████▋          | 4580/5000 [00:03<00:00, acc=0.471, best test F1Mi=0.471, F1Ma=0.421]\u001b[A\n",
      "(LR):  92%|█████████████████████████████████████████████████████████████████████████████████████████████████████████████████▏         | 4600/5000 [00:03<00:00, acc=0.471, best test F1Mi=0.471, F1Ma=0.421]\u001b[A\n",
      "(LR):  92%|█████████████████████████████████████████████████████████████████████████████████████████████████████████████████▋         | 4620/5000 [00:03<00:00, acc=0.471, best test F1Mi=0.471, F1Ma=0.421]\u001b[A\n",
      "(LR):  93%|██████████████████████████████████████████████████████████████████████████████████████████████████████████████████▏        | 4640/5000 [00:03<00:00, acc=0.471, best test F1Mi=0.471, F1Ma=0.421]\u001b[A\n",
      "(LR):  93%|██████████████████████████████████████████████████████████████████████████████████████████████████████████████████▏        | 4640/5000 [00:03<00:00, acc=0.471, best test F1Mi=0.471, F1Ma=0.421]\u001b[A\n",
      "(LR):  93%|██████████████████████████████████████████████████████████████████████████████████████████████████████████████████▋        | 4660/5000 [00:03<00:00, acc=0.471, best test F1Mi=0.471, F1Ma=0.421]\u001b[A\n",
      "(LR):  94%|███████████████████████████████████████████████████████████████████████████████████████████████████████████████████▏       | 4680/5000 [00:03<00:00, acc=0.471, best test F1Mi=0.471, F1Ma=0.421]\u001b[A\n",
      "(LR):  94%|███████████████████████████████████████████████████████████████████████████████████████████████████████████████████▌       | 4700/5000 [00:04<00:00, acc=0.471, best test F1Mi=0.471, F1Ma=0.421]\u001b[A\n"
     ]
    },
    {
     "name": "stderr",
     "output_type": "stream",
     "text": [
      "(LR):  94%|████████████████████████████████████████████████████████████████████████████████████████████████████████████████████       | 4720/5000 [00:04<00:00, acc=0.474, best test F1Mi=0.471, F1Ma=0.421]\u001b[A\n",
      "(LR):  95%|████████████████████████████████████████████████████████████████████████████████████████████████████████████████████▌      | 4740/5000 [00:04<00:00, acc=0.474, best test F1Mi=0.471, F1Ma=0.421]\u001b[A\n",
      "(LR):  95%|█████████████████████████████████████████████████████████████████████████████████████████████████████████████████████      | 4760/5000 [00:04<00:00, acc=0.474, best test F1Mi=0.471, F1Ma=0.421]\u001b[A\n",
      "(LR):  96%|█████████████████████████████████████████████████████████████████████████████████████████████████████████████████████▌     | 4780/5000 [00:04<00:00, acc=0.474, best test F1Mi=0.471, F1Ma=0.421]\u001b[A\n",
      "(LR):  96%|█████████████████████████████████████████████████████████████████████████████████████████████████████████████████████▌     | 4780/5000 [00:04<00:00, acc=0.474, best test F1Mi=0.471, F1Ma=0.421]\u001b[A\n",
      "(LR):  96%|██████████████████████████████████████████████████████████████████████████████████████████████████████████████████████     | 4800/5000 [00:04<00:00, acc=0.471, best test F1Mi=0.471, F1Ma=0.421]\u001b[A\n",
      "(LR):  96%|██████████████████████████████████████████████████████████████████████████████████████████████████████████████████████▌    | 4820/5000 [00:04<00:00, acc=0.471, best test F1Mi=0.471, F1Ma=0.421]\u001b[A\n",
      "(LR):  97%|███████████████████████████████████████████████████████████████████████████████████████████████████████████████████████    | 4840/5000 [00:04<00:00, acc=0.471, best test F1Mi=0.471, F1Ma=0.421]\u001b[A\n",
      "(LR):  97%|███████████████████████████████████████████████████████████████████████████████████████████████████████████████████████▌   | 4860/5000 [00:04<00:00, acc=0.471, best test F1Mi=0.471, F1Ma=0.421]\u001b[A\n",
      "(LR):  98%|████████████████████████████████████████████████████████████████████████████████████████████████████████████████████████   | 4880/5000 [00:04<00:00, acc=0.471, best test F1Mi=0.471, F1Ma=0.421]\u001b[A\n",
      "(LR):  98%|████████████████████████████████████████████████████████████████████████████████████████████████████████████████████████▌  | 4900/5000 [00:04<00:00, acc=0.471, best test F1Mi=0.471, F1Ma=0.421]\u001b[A\n",
      "(LR):  98%|█████████████████████████████████████████████████████████████████████████████████████████████████████████████████████████  | 4920/5000 [00:04<00:00, acc=0.471, best test F1Mi=0.471, F1Ma=0.421]\u001b[A\n",
      "(LR):  98%|█████████████████████████████████████████████████████████████████████████████████████████████████████████████████████████  | 4920/5000 [00:04<00:00, acc=0.467, best test F1Mi=0.471, F1Ma=0.421]\u001b[A\n",
      "(LR):  99%|█████████████████████████████████████████████████████████████████████████████████████████████████████████████████████████▌ | 4940/5000 [00:04<00:00, acc=0.463, best test F1Mi=0.471, F1Ma=0.421]\u001b[A\n",
      "(LR):  99%|██████████████████████████████████████████████████████████████████████████████████████████████████████████████████████████ | 4960/5000 [00:04<00:00, acc=0.463, best test F1Mi=0.471, F1Ma=0.421]\u001b[A\n",
      "(LR): 100%|███████████████████████████████████████████████████████████████████████████████████████████████████████████████████████████| 5000/5000 [00:04<00:00, acc=0.463, best test F1Mi=0.463, F1Ma=0.415]\u001b[A\n",
      "(T):  10%|██████████████▋                                                                                                                                    | 100/1000 [01:59<17:53,  1.19s/it, loss=-8.69]"
     ]
    },
    {
     "name": "stdout",
     "output_type": "stream",
     "text": [
      "(E): Best test F1Mi=0.4632, F1Ma=0.4146\n"
     ]
    },
    {
     "name": "stderr",
     "output_type": "stream",
     "text": [
      "\n"
     ]
    }
   ],
   "source": [
    "device = torch.device('cpu')\n",
    "path = osp.join(osp.expanduser('~'), 'datasets')\n",
    "dataset = Planetoid(path, name='Cora', transform=T.NormalizeFeatures())\n",
    "# dataset = Coauthor(path, name=\"CS\", transform=T.NormalizeFeatures())\n",
    "# dataset = WikiCS(path, transform=T.NormalizeFeatures())\n",
    "# dataset = SNAPDataset(path, name=\"soc-Pokec\", transform=T.NormalizeFeatures())\n",
    "# dataset = SNAPDataset(path, name=\"ego-facebook\", transform=T.NormalizeFeatures())\n",
    "# dataset = TUDataset(path, name=\"REDDIT-BINARY\", transform=T.NormalizeFeatures())\n",
    "data = dataset[0].to(device)\n",
    "\n",
    "# row, col = data.edge_index\n",
    "# row = torch.cat([row, col])\n",
    "# col = torch.cat([col, row])\n",
    "# data.edge_index = torch.stack([row, col], dim=0)\n",
    "# data.edge_attr = torch.cat([data.edge_attr, data.edge_attr], dim=0)\n",
    "print(\" IS DATA UNDIRECTED: \", data.is_undirected())\n",
    "\n",
    "# A.PPRDiffusion(alpha=0.2, use_cache=False)\n",
    "aug1 = A.Compose([rLAP(500), A.FeatureMasking(pf=0.3)])\n",
    "aug2 = A.Compose([rLAP(500), A.FeatureMasking(pf=0.3)])\n",
    "\n",
    "gconv = GConv(input_dim=dataset.num_features, hidden_dim=128, activation=torch.nn.ReLU, num_layers=2).to(device)\n",
    "encoder_model = Encoder(encoder=gconv, augmentor=(aug1, aug2), hidden_dim=128, proj_dim=128).to(device)\n",
    "contrast_model = DualBranchContrast(loss=HardnessInfoNCE(tau=0.2), mode='L2L', intraview_negs=False).to(device)\n",
    "\n",
    "optimizer = Adam(encoder_model.parameters(), lr=0.005, weight_decay=1e-5)\n",
    "\n",
    "with tqdm(total=1000, desc='(T)') as pbar:\n",
    "    for epoch in range(1, 101):\n",
    "        loss = train(encoder_model, contrast_model, data, optimizer)\n",
    "        pbar.set_postfix({'loss': loss})\n",
    "        pbar.update()\n",
    "        if epoch%50==0:\n",
    "            test_result = test(encoder_model, data)\n",
    "            print(f'(E): Best test F1Mi={test_result[\"micro_f1\"]:.4f}, F1Ma={test_result[\"macro_f1\"]:.4f}')\n"
   ]
  },
  {
   "cell_type": "code",
   "execution_count": 301,
   "id": "cf3ba972",
   "metadata": {},
   "outputs": [
    {
     "name": "stderr",
     "output_type": "stream",
     "text": [
      "(LR): 100%|███████████████████████████████████████████████████████████████████████████████████████████████████████████████████████████| 5000/5000 [00:03<00:00, acc=0.463, best test F1Mi=0.467, F1Ma=0.403]\n"
     ]
    }
   ],
   "source": [
    "encoder_model.eval()\n",
    "z, _, _, rw1, rw2 = encoder_model(data.x, data.edge_index, data.edge_attr)\n",
    "split = get_split(num_samples=z.size()[0], train_ratio=0.1, test_ratio=0.8)\n",
    "result = LREvaluator()(z, data.y, split)"
   ]
  },
  {
   "cell_type": "code",
   "execution_count": 302,
   "id": "0991d706",
   "metadata": {},
   "outputs": [
    {
     "data": {
      "text/plain": [
       "tensor(0.)"
      ]
     },
     "execution_count": 302,
     "metadata": {},
     "output_type": "execute_result"
    }
   ],
   "source": [
    "rw1.min()"
   ]
  },
  {
   "cell_type": "code",
   "execution_count": 303,
   "id": "2f928ef7",
   "metadata": {},
   "outputs": [
    {
     "data": {
      "text/plain": [
       "{'micro_f1': 0.46691176470588236, 'macro_f1': 0.4028797100977552}"
      ]
     },
     "execution_count": 303,
     "metadata": {},
     "output_type": "execute_result"
    }
   ],
   "source": [
    "result"
   ]
  },
  {
   "cell_type": "code",
   "execution_count": 304,
   "id": "1ec568b1",
   "metadata": {},
   "outputs": [
    {
     "data": {
      "text/plain": [
       "(torch.Size([2708, 128]), torch.Size([2708]))"
      ]
     },
     "execution_count": 304,
     "metadata": {},
     "output_type": "execute_result"
    }
   ],
   "source": [
    "z.shape, data.y.shape"
   ]
  },
  {
   "cell_type": "code",
   "execution_count": 305,
   "id": "6d7d6846",
   "metadata": {},
   "outputs": [
    {
     "data": {
      "text/plain": [
       "tensor([0, 1, 2, 3, 4, 5, 6])"
      ]
     },
     "execution_count": 305,
     "metadata": {},
     "output_type": "execute_result"
    }
   ],
   "source": [
    "data.y.unique()"
   ]
  },
  {
   "cell_type": "code",
   "execution_count": 306,
   "id": "679620c8",
   "metadata": {},
   "outputs": [],
   "source": [
    "import matplotlib.pyplot as plt"
   ]
  },
  {
   "cell_type": "code",
   "execution_count": 307,
   "id": "91c1bcdd",
   "metadata": {},
   "outputs": [
    {
     "name": "stdout",
     "output_type": "stream",
     "text": [
      "LABEL:  tensor(3)\n"
     ]
    },
    {
     "data": {
      "text/plain": [
       "(2708, 818, 1890)"
      ]
     },
     "execution_count": 307,
     "metadata": {},
     "output_type": "execute_result"
    }
   ],
   "source": [
    "def _similarity(h1: torch.Tensor, h2: torch.Tensor):\n",
    "    h1 = F.normalize(h1)\n",
    "    h2 = F.normalize(h2)\n",
    "    return h1 @ h2.t()\n",
    "\n",
    "sims = _similarity(z, z)\n",
    "sims.shape\n",
    "\n",
    "index = 0\n",
    "z1 = sims[index,:]\n",
    "label_filter = data.y == data.y[index]\n",
    "print(\"LABEL: \", data.y[index])\n",
    "\n",
    "true_indices = label_filter.nonzero()\n",
    "false_indices = (torch.logical_not(label_filter)).nonzero()\n",
    "\n",
    "len(data.y), len(true_indices), len(false_indices)"
   ]
  },
  {
   "cell_type": "code",
   "execution_count": 261,
   "id": "2ea4eb32",
   "metadata": {},
   "outputs": [
    {
     "data": {
      "text/plain": [
       "(array([547.,  80.,  72.,  65.,  62.,  68.,  85.,  92., 176., 643.]),\n",
       " array([0.02804826, 0.12491101, 0.22177376, 0.3186365 , 0.41549924,\n",
       "        0.512362  , 0.60922474, 0.70608747, 0.80295026, 0.899813  ,\n",
       "        0.9966757 ], dtype=float32),\n",
       " <BarContainer object of 10 artists>)"
      ]
     },
     "execution_count": 261,
     "metadata": {},
     "output_type": "execute_result"
    },
    {
     "data": {
      "image/png": "[encoded data removed]",
      "text/plain": [
       "<Figure size 432x288 with 1 Axes>"
      ]
     },
     "metadata": {
      "needs_background": "light"
     },
     "output_type": "display_data"
    }
   ],
   "source": [
    "plt.hist(z1[true_indices].detach().numpy()) # false negatives\n",
    "plt.hist(z1[false_indices].detach().numpy()) # true negatives"
   ]
  },
  {
   "cell_type": "code",
   "execution_count": 280,
   "id": "a39c5971",
   "metadata": {},
   "outputs": [
    {
     "data": {
      "text/plain": [
       "(array([776., 203., 106.,  89.,  64.,  50.,  61.,  58.,  65., 418.]),\n",
       " array([0.09772418, 0.18701683, 0.27630946, 0.3656021 , 0.45489478,\n",
       "        0.5441874 , 0.6334801 , 0.7227727 , 0.81206536, 0.901358  ,\n",
       "        0.99065065], dtype=float32),\n",
       " <BarContainer object of 10 artists>)"
      ]
     },
     "execution_count": 280,
     "metadata": {},
     "output_type": "execute_result"
    },
    {
     "data": {
      "image/png": "[encoded data removed]",
      "text/plain": [
       "<Figure size 432x288 with 1 Axes>"
      ]
     },
     "metadata": {
      "needs_background": "light"
     },
     "output_type": "display_data"
    }
   ],
   "source": [
    "# plt.hist(z1[true_indices].detach().numpy()) # false negatives\n",
    "plt.hist(z1[false_indices].detach().numpy()) # true negatives"
   ]
  },
  {
   "cell_type": "code",
   "execution_count": 309,
   "id": "f0a897fa",
   "metadata": {},
   "outputs": [
    {
     "data": {
      "text/plain": [
       "(array([481., 119.,  88.,  67.,  68.,  51.,  51.,  47.,  77., 841.]),\n",
       " array([0.07469564, 0.16397032, 0.25324503, 0.3425197 , 0.43179438,\n",
       "        0.52106905, 0.61034375, 0.69961846, 0.78889316, 0.8781678 ,\n",
       "        0.9674425 ], dtype=float32),\n",
       " <BarContainer object of 10 artists>)"
      ]
     },
     "execution_count": 309,
     "metadata": {},
     "output_type": "execute_result"
    },
    {
     "data": {
      "image/png": "[encoded data removed]",
      "text/plain": [
       "<Figure size 432x288 with 1 Axes>"
      ]
     },
     "metadata": {
      "needs_background": "light"
     },
     "output_type": "display_data"
    }
   ],
   "source": [
    "# plt.hist(z1[true_indices].detach().numpy()) # false negatives\n",
    "plt.hist(z1[false_indices].detach().numpy()) # true negatives"
   ]
  },
  {
   "cell_type": "code",
   "execution_count": null,
   "id": "4cbdf358",
   "metadata": {},
   "outputs": [],
   "source": []
  }
 ],
 "metadata": {
  "kernelspec": {
   "display_name": "Python 3 (ipykernel)",
   "language": "python",
   "name": "python3"
  },
  "language_info": {
   "codemirror_mode": {
    "name": "ipython",
    "version": 3
   },
   "file_extension": ".py",
   "mimetype": "text/x-python",
   "name": "python",
   "nbconvert_exporter": "python",
   "pygments_lexer": "ipython3",
   "version": "3.9.13"
  }
 },
 "nbformat": 4,
 "nbformat_minor": 5
}
