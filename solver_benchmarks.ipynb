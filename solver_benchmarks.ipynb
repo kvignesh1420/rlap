{
 "cells": [
  {
   "cell_type": "markdown",
   "id": "08a1e5a7",
   "metadata": {},
   "source": [
    "# Benchmark the rlap and scipy solvers\n",
    "\n",
    "Prerequisite: Bazel is needed to build the rlap library and expose the python wrappers.\n",
    "```\n",
    "$ bazel build //rlap:all\n",
    "```"
   ]
  },
  {
   "cell_type": "markdown",
   "id": "b46e860c",
   "metadata": {},
   "source": [
    "## Imports"
   ]
  },
  {
   "cell_type": "code",
   "execution_count": null,
   "id": "d8f9e899",
   "metadata": {},
   "outputs": [],
   "source": [
    "!pip install matplotlib\n",
    "!pip install scipy\n",
    "!pip install pandas\n",
    "\n",
    "import os\n",
    "os.environ[\"DATAPATH\"] = \"bazel-bin\"\n",
    "import time\n",
    "import numpy as np\n",
    "import pandas as pd\n",
    "from rlap import ApproximateCholesky\n",
    "from scipy.sparse import linalg"
   ]
  },
  {
   "cell_type": "markdown",
   "id": "c989788d",
   "metadata": {},
   "source": [
    "### Download the datasets\n",
    "\n",
    "The datasets can be downloaded from https://graphchallenge.mit.edu/data-sets along with their metadata. However, we also provide a \"generator.py\" function for generating 3D grid and complete connected graphs of N nodes. The \"grid50.tsv\" and \"connected1000.tsv\" were generared from it. Rest can be downloaded and put in the `data/` folder."
   ]
  },
  {
   "cell_type": "code",
   "execution_count": null,
   "id": "c0a48e55",
   "metadata": {},
   "outputs": [],
   "source": [
    "# datasets\n",
    "\n",
    "items = [\n",
    "    { \"dataset\": \"connected1000.tsv\", \"num_nodes\": 1000, \"num_edges\": 1000000},\n",
    "    { \"dataset\":  \"grid50.tsv\", \"num_nodes\": 125000, \"num_edges\": 735000},\n",
    "    \n",
    "#     Uncomment the following lines ones the datasets have been downloaded from https://graphchallenge.mit.edu/data-sets\n",
    "#     and placed in the `data/` folder.\n",
    "    \n",
    "#     { \"dataset\": \"ca-GrQc_adj.tsv\", \"num_nodes\": 5242, \"num_edges\": 28968},\n",
    "#     { \"dataset\":  \"ca-HepPh_adj.tsv\", \"num_nodes\": 12008, \"num_edges\": 236978},\n",
    "#     { \"dataset\":  \"email-Enron_adj.tsv\", \"num_nodes\": 36692, \"num_edges\": 367662},\n",
    "#     { \"dataset\":  \"soc-Epinions1_adj.tsv\", \"num_nodes\": 75879, \"num_edges\": 811480},\n",
    "#     { \"dataset\":  \"amazon0302_adj.tsv\", \"num_nodes\": 262111, \"num_edges\": 1799584},\n",
    "#     { \"dataset\":  \"amazon0312_adj.tsv\", \"num_nodes\": 400727, \"num_edges\": 4699738},\n",
    "#     { \"dataset\":  \"roadNet-CA_adj.tsv\", \"num_nodes\": 1965206, \"num_edges\": 5533214},\n",
    "#     { \"dataset\":  \"cit-Patents_adj.tsv\", \"num_nodes\": 3774768, \"num_edges\": 33037894},\n",
    "]\n",
    "\n",
    "#scipy solvers\n",
    "\n",
    "scipy_solvers = {\n",
    "    \"bicg\": linalg.bicg,\n",
    "    \"cgs\": linalg.cgs,\n",
    "    \"lgmres\": linalg.lgmres,\n",
    "}\n"
   ]
  },
  {
   "cell_type": "markdown",
   "id": "b715608d",
   "metadata": {},
   "source": [
    "## Helper methods for running the solvers"
   ]
  },
  {
   "cell_type": "code",
   "execution_count": null,
   "id": "6b619b60",
   "metadata": {},
   "outputs": [],
   "source": [
    "\n",
    "def run_rlap(dataset, N):\n",
    "    stats = []\n",
    "    for pre in [\"order\", \"coarsen\", \"degree\"]:\n",
    "        print(\"RLAP: {}\".format(pre))\n",
    "        filename = \"data/\" + dataset\n",
    "        fact = ApproximateCholesky(filename=filename, nrows=N, ncols=N, pre=pre)\n",
    "        s = time.time()\n",
    "        x = fact.solve(b)\n",
    "        e = time.time()\n",
    "        print(\"STATS\", e-s, fact.get_num_iters(), fact.get_sparsity_ratio())\n",
    "        stat = {\n",
    "            \"solver\": pre,\n",
    "            \"dataset\": dataset.replace(\"_adj.tsv\", \"\").replace(\".tsv\", \"\"),\n",
    "            \"duration\": e-s,\n",
    "            \"num_iters\": fact.get_num_iters(),\n",
    "            \"sparsity_ratio\": fact.get_sparsity_ratio()\n",
    "        }\n",
    "        stats.append(stat)\n",
    "    return stats\n",
    "\n",
    "def run_scipy(dataset):\n",
    "    stats = []\n",
    "    for solver in scipy_solvers:\n",
    "        print(\"Scipy: {}\".format(solver))\n",
    "        num_iters = 0\n",
    "        def scipy_callback(x):\n",
    "            nonlocal num_iters\n",
    "            num_iters += 1\n",
    "        s = time.time()\n",
    "        x_t, info = scipy_solvers[solver](L, b, tol=1e-12, maxiter=5000, callback=scipy_callback)\n",
    "        e = time.time()\n",
    "        print(\"STATS\", e-s, num_iters)\n",
    "        stat = {\n",
    "            \"solver\": solver,\n",
    "            \"dataset\": dataset.replace(\"_adj.tsv\", \"\").replace(\".tsv\", \"\"),\n",
    "            \"duration\": e-s,\n",
    "            \"num_iters\": num_iters,\n",
    "            \"sparsity_ratio\": -1\n",
    "        }\n",
    "        stats.append(stat)\n",
    "    return stats\n",
    "        "
   ]
  },
  {
   "cell_type": "code",
   "execution_count": null,
   "id": "b72f3b68",
   "metadata": {
    "scrolled": true
   },
   "outputs": [],
   "source": [
    "rlap_stats = []\n",
    "scipy_stats = []\n",
    "print(len(items))\n",
    "for item in items:\n",
    "    dataset = item[\"dataset\"]\n",
    "    N = item[\"num_nodes\"]\n",
    "    print(\"===================DATASET: {}, N: {}=================\".format(dataset, N))\n",
    "    filename = \"data/\" + dataset\n",
    "    fact = ApproximateCholesky(filename=filename, nrows=N, ncols=N, pre=\"order\")\n",
    "    # retrieve the laplacian\n",
    "    L = fact.get_laplacian()\n",
    "    # generate a random ground truth x_gt\n",
    "    x_gt = np.random.rand(N)\n",
    "    # calculate the respective b\n",
    "    b = L*x_gt\n",
    "    # run the solvers and collect stats\n",
    "    rlap_stats.extend(run_rlap(dataset=dataset, N=N))\n",
    "    scipy_stats.extend(run_scipy(dataset=dataset))"
   ]
  },
  {
   "cell_type": "markdown",
   "id": "8d99ee06",
   "metadata": {},
   "source": [
    "## Tabulate the collected statistics"
   ]
  },
  {
   "cell_type": "code",
   "execution_count": null,
   "id": "0a8c071c",
   "metadata": {},
   "outputs": [],
   "source": [
    "stats_df = pd.DataFrame(rlap_stats+scipy_stats)[[\"duration\", \"num_iters\", \"solver\", \"dataset\"]]"
   ]
  },
  {
   "cell_type": "code",
   "execution_count": null,
   "id": "9a0f8cfa",
   "metadata": {},
   "outputs": [],
   "source": [
    "stats_df = stats_df.pivot(index='dataset', columns='solver', values=[\"duration\", \"num_iters\"])"
   ]
  },
  {
   "cell_type": "code",
   "execution_count": null,
   "id": "71a1df0d",
   "metadata": {},
   "outputs": [],
   "source": [
    "pd.set_option(\"display.precision\", 3)\n",
    "stats_df"
   ]
  },
  {
   "cell_type": "markdown",
   "id": "75a6812e",
   "metadata": {},
   "source": [
    "### Optional export to latex format"
   ]
  },
  {
   "cell_type": "code",
   "execution_count": null,
   "id": "9cda5aac",
   "metadata": {
    "scrolled": true
   },
   "outputs": [],
   "source": [
    "print(stats_df.to_latex())"
   ]
  },
  {
   "cell_type": "code",
   "execution_count": null,
   "id": "ffe96da7",
   "metadata": {},
   "outputs": [],
   "source": []
  }
 ],
 "metadata": {
  "kernelspec": {
   "display_name": "Python 3.10.6 64-bit",
   "language": "python",
   "name": "python3"
  },
  "language_info": {
   "codemirror_mode": {
    "name": "ipython",
    "version": 3
   },
   "file_extension": ".py",
   "mimetype": "text/x-python",
   "name": "python",
   "nbconvert_exporter": "python",
   "pygments_lexer": "ipython3",
   "version": "3.10.6"
  },
  "vscode": {
   "interpreter": {
    "hash": "aee8b7b246df8f9039afb4144a1f6fd8d2ca17a180786b69acc140d282b71a49"
   }
  }
 },
 "nbformat": 4,
 "nbformat_minor": 5
}
