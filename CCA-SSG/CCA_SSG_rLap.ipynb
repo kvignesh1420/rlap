{
  "cells": [
    {
      "cell_type": "markdown",
      "metadata": {
        "id": "bv8fo4C5OziG"
      },
      "source": [
        "## IMPORTANT: \n",
        "Please upload the code provided in the anonymized url for directly executing the cells of this notebook. Once uploaded, you should see an `rlap` directory.\n",
        "\n",
        "\n"
      ]
    },
    {
      "cell_type": "code",
      "execution_count": null,
      "metadata": {
        "id": "1j3K2XBLeXac"
      },
      "outputs": [],
      "source": [
        "!apt install apt-transport-https curl gnupg\n",
        "!curl -fsSL https://bazel.build/bazel-release.pub.gpg | gpg --dearmor > bazel.gpg\n",
        "!mv bazel.gpg /etc/apt/trusted.gpg.d/\n",
        "!echo \"deb [arch=amd64] https://storage.googleapis.com/bazel-apt stable jdk1.8\" | sudo tee /etc/apt/sources.list.d/bazel.list\n",
        "!apt update && apt install bazel"
      ]
    },
    {
      "cell_type": "code",
      "execution_count": null,
      "metadata": {
        "id": "rSiv7-adyKms"
      },
      "outputs": [],
      "source": [
        "# Please make sure the code is uploaded.\n",
        "!cd rlap && bazel build //rlap:all"
      ]
    },
    {
      "cell_type": "code",
      "execution_count": null,
      "metadata": {
        "id": "-FJpY9uSaecM"
      },
      "outputs": [],
      "source": [
        "!git clone https://github.com/PyGCL/PyGCL.git\n",
        "!cd PyGCL && pip install .\n",
        "import os\n",
        "os.environ.pop('LD_PRELOAD', None)"
      ]
    },
    {
      "cell_type": "code",
      "execution_count": null,
      "metadata": {
        "id": "qAq1wjduzMnW"
      },
      "outputs": [],
      "source": [
        "!pip install  dgl -f https://data.dgl.ai/wheels/cu116/repo.html\n",
        "!pip install tensorboardX \n",
        "!pip install pygrok\n",
        "!pip install tabulate\n",
        "import os\n",
        "import torch\n",
        "os.environ['TORCH'] = torch.__version__\n",
        "print(torch.__version__)\n",
        "\n",
        "!pip install torch-scatter -f https://data.pyg.org/whl/torch-${TORCH}.html\n",
        "!pip install torch-sparse -f https://data.pyg.org/whl/torch-${TORCH}.html\n",
        "!pip install torch-geometric -f https://data.pyg.org/whl/torch-${TORCH}.html"
      ]
    },
    {
      "cell_type": "code",
      "execution_count": null,
      "metadata": {
        "id": "khxIXXxw7kTX"
      },
      "outputs": [],
      "source": [
        "\n",
        "! cd rlap/CCA-SSG && bash run.sh\n"
      ]
    },
    {
      "cell_type": "code",
      "execution_count": null,
      "metadata": {
        "id": "O6LrPNsLKpT2"
      },
      "outputs": [],
      "source": []
    }
  ],
  "metadata": {
    "accelerator": "GPU",
    "colab": {
      "provenance": []
    },
    "gpuClass": "standard",
    "kernelspec": {
      "display_name": "Python 3",
      "name": "python3"
    },
    "language_info": {
      "name": "python"
    }
  },
  "nbformat": 4,
  "nbformat_minor": 0
}
