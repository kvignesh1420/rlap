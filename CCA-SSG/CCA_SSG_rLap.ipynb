{
  "cells": [
    {
      "attachments": {},
      "cell_type": "markdown",
      "metadata": {
        "id": "bv8fo4C5OziG"
      },
      "source": [
        "### Setup \n",
        "\n"
      ]
    },
    {
      "cell_type": "code",
      "execution_count": null,
      "metadata": {
        "id": "1j3K2XBLeXac"
      },
      "outputs": [],
      "source": [
        "!apt install apt-transport-https curl gnupg eigen"
      ]
    },
    {
      "cell_type": "code",
      "execution_count": null,
      "metadata": {
        "id": "rSiv7-adyKms"
      },
      "outputs": [],
      "source": [
        "\n",
        "!cd rlap && pip install ."
      ]
    },
    {
      "cell_type": "code",
      "execution_count": null,
      "metadata": {
        "id": "-FJpY9uSaecM"
      },
      "outputs": [],
      "source": [
        "!git clone https://github.com/PyGCL/PyGCL.git\n",
        "!cd PyGCL && pip install .\n",
        "import os\n",
        "os.environ.pop('LD_PRELOAD', None)"
      ]
    },
    {
      "cell_type": "code",
      "execution_count": null,
      "metadata": {
        "id": "qAq1wjduzMnW"
      },
      "outputs": [],
      "source": [
        "!pip install  dgl -f https://data.dgl.ai/wheels/cu116/repo.html\n",
        "!pip install tensorboardX \n",
        "!pip install pygrok\n",
        "!pip install tabulate\n",
        "import os\n",
        "import torch\n",
        "os.environ['TORCH'] = torch.__version__\n",
        "print(torch.__version__)\n",
        "\n",
        "!pip install torch-scatter -f https://data.pyg.org/whl/torch-${TORCH}.html\n",
        "!pip install torch-sparse -f https://data.pyg.org/whl/torch-${TORCH}.html\n",
        "!pip install torch-geometric -f https://data.pyg.org/whl/torch-${TORCH}.html"
      ]
    },
    {
      "attachments": {},
      "cell_type": "markdown",
      "metadata": {},
      "source": [
        "### Run CCA-SSG experiments"
      ]
    },
    {
      "cell_type": "code",
      "execution_count": null,
      "metadata": {
        "id": "khxIXXxw7kTX"
      },
      "outputs": [],
      "source": [
        "\n",
        "! cd rlap/CCA-SSG && bash run.sh\n"
      ]
    }
  ],
  "metadata": {
    "accelerator": "GPU",
    "colab": {
      "provenance": []
    },
    "gpuClass": "standard",
    "kernelspec": {
      "display_name": "Python 3",
      "name": "python3"
    },
    "language_info": {
      "name": "python"
    }
  },
  "nbformat": 4,
  "nbformat_minor": 0
}
